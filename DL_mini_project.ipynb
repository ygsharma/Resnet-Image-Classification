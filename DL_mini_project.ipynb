{
  "cells": [
    {
      "cell_type": "markdown",
      "source": [
        "### Optimized Modified ResNet Architecture."
      ],
      "metadata": {
        "id": "ThfvFtaTZh_W"
      }
    },
    {
      "cell_type": "markdown",
      "source": [
        "Need to install MLflow library if not already installed and then import all the dependencies."
      ],
      "metadata": {
        "id": "3uIVJbnjZaEQ"
      }
    },
    {
      "cell_type": "code",
      "execution_count": null,
      "metadata": {
        "id": "0Wo0t3CwZruE"
      },
      "outputs": [],
      "source": [
        "!pip install mlflow"
      ]
    },
    {
      "cell_type": "code",
      "execution_count": null,
      "metadata": {
        "id": "ND6J7aN5Y4pK"
      },
      "outputs": [],
      "source": [
        "from tqdm import tqdm\n",
        "import random\n",
        "import torch\n",
        "import torchvision\n",
        "import torchvision.transforms as transforms\n",
        "import torch.nn as nn\n",
        "import torch.nn.functional as F\n",
        "import torch.optim as optim\n",
        "from torchsummary import summary\n",
        "import matplotlib.pyplot as plt\n",
        "import numpy as np\n",
        "from copy import deepcopy\n",
        "import torch.nn.utils.prune as prune\n",
        "import mlflow\n",
        "\n",
        "# Set the device\n",
        "device = torch.device(\"cuda\" if torch.cuda.is_available() else \"cpu\")"
      ]
    },
    {
      "cell_type": "markdown",
      "source": [
        "### Data loading and preprocessing"
      ],
      "metadata": {
        "id": "konevsZLZqgR"
      }
    },
    {
      "cell_type": "code",
      "execution_count": null,
      "metadata": {
        "colab": {
          "base_uri": "https://localhost:8080/"
        },
        "id": "shMpla57Y5gf",
        "outputId": "b03ac34e-49e8-4b34-9fb9-8f8fdb267ec7"
      },
      "outputs": [
        {
          "name": "stdout",
          "output_type": "stream",
          "text": [
            "Files already downloaded and verified\n",
            "Files already downloaded and verified\n"
          ]
        }
      ],
      "source": [
        "\n",
        "transform = transforms.Compose(\n",
        "    [transforms.RandomHorizontalFlip(),\n",
        "     transforms.RandomCrop(32, padding=4),\n",
        "     transforms.ToTensor(),\n",
        "     transforms.Normalize((0.5, 0.5, 0.5), (0.5, 0.5, 0.5))])\n",
        "\n",
        "test_transform = transforms.Compose(\n",
        "    [transforms.ToTensor(),\n",
        "     transforms.Normalize((0.5, 0.5, 0.5), (0.5, 0.5, 0.5))])\n",
        "\n",
        "trainset = torchvision.datasets.CIFAR10(root='./data', train=True,\n",
        "                                        download=True, transform=transform)\n",
        "trainloader = torch.utils.data.DataLoader(trainset, batch_size=100,\n",
        "                                          shuffle=True, num_workers=2)\n",
        "\n",
        "testset = torchvision.datasets.CIFAR10(root='./data', train=False,\n",
        "                                       download=True, transform=test_transform)\n",
        "testloader = torch.utils.data.DataLoader(testset, batch_size=100,\n",
        "                                         shuffle=False, num_workers=2)\n",
        "\n",
        "classes = ('plane', 'car', 'bird', 'cat', 'deer',\n",
        "           'dog', 'frog', 'horse', 'ship', 'truck')"
      ]
    },
    {
      "cell_type": "markdown",
      "source": [
        "Function to count the trainable parameters in the model."
      ],
      "metadata": {
        "id": "X0WPiq1KZ5DH"
      }
    },
    {
      "cell_type": "code",
      "execution_count": null,
      "metadata": {
        "id": "fn0sNG9dM69U"
      },
      "outputs": [],
      "source": [
        "def count_parameters(model):\n",
        "    return sum(p.numel() for p in model.parameters() if p.requires_grad)"
      ]
    },
    {
      "cell_type": "markdown",
      "source": [
        "### Defining the Resnet Architecture:\n",
        "First, we define a simplified basic block for the Resnet Architecture and define the simplified ResNet architecture using an initial convolutional layer, batch normalization and ReLU activation with 3 layers and varying number of blocks and strides and define the adaptive pooling layer. Then we have a make layer function to create layers with specified number of blocks and output channels."
      ],
      "metadata": {
        "id": "kiChQiULZ-Vp"
      }
    },
    {
      "cell_type": "code",
      "execution_count": null,
      "metadata": {
        "colab": {
          "base_uri": "https://localhost:8080/"
        },
        "id": "ALu0-xu87FV1",
        "outputId": "47577c20-82a6-4c7c-b193-2e313fafd7cb"
      },
      "outputs": [
        {
          "name": "stdout",
          "output_type": "stream",
          "text": [
            "----------------------------------------------------------------\n",
            "        Layer (type)               Output Shape         Param #\n",
            "================================================================\n",
            "            Conv2d-1           [-1, 64, 32, 32]           1,728\n",
            "       BatchNorm2d-2           [-1, 64, 32, 32]             128\n",
            "              ReLU-3           [-1, 64, 32, 32]               0\n",
            "            Conv2d-4           [-1, 64, 32, 32]          36,864\n",
            "       BatchNorm2d-5           [-1, 64, 32, 32]             128\n",
            "              ReLU-6           [-1, 64, 32, 32]               0\n",
            "            Conv2d-7           [-1, 64, 32, 32]          36,864\n",
            "       BatchNorm2d-8           [-1, 64, 32, 32]             128\n",
            "              ReLU-9           [-1, 64, 32, 32]               0\n",
            "SimplifiedBasicBlock-10           [-1, 64, 32, 32]               0\n",
            "           Conv2d-11           [-1, 64, 32, 32]          36,864\n",
            "      BatchNorm2d-12           [-1, 64, 32, 32]             128\n",
            "             ReLU-13           [-1, 64, 32, 32]               0\n",
            "           Conv2d-14           [-1, 64, 32, 32]          36,864\n",
            "      BatchNorm2d-15           [-1, 64, 32, 32]             128\n",
            "             ReLU-16           [-1, 64, 32, 32]               0\n",
            "SimplifiedBasicBlock-17           [-1, 64, 32, 32]               0\n",
            "           Conv2d-18           [-1, 64, 32, 32]          36,864\n",
            "      BatchNorm2d-19           [-1, 64, 32, 32]             128\n",
            "             ReLU-20           [-1, 64, 32, 32]               0\n",
            "           Conv2d-21           [-1, 64, 32, 32]          36,864\n",
            "      BatchNorm2d-22           [-1, 64, 32, 32]             128\n",
            "             ReLU-23           [-1, 64, 32, 32]               0\n",
            "SimplifiedBasicBlock-24           [-1, 64, 32, 32]               0\n",
            "           Conv2d-25           [-1, 64, 32, 32]          36,864\n",
            "      BatchNorm2d-26           [-1, 64, 32, 32]             128\n",
            "             ReLU-27           [-1, 64, 32, 32]               0\n",
            "           Conv2d-28           [-1, 64, 32, 32]          36,864\n",
            "      BatchNorm2d-29           [-1, 64, 32, 32]             128\n",
            "             ReLU-30           [-1, 64, 32, 32]               0\n",
            "SimplifiedBasicBlock-31           [-1, 64, 32, 32]               0\n",
            "           Conv2d-32          [-1, 128, 16, 16]          73,728\n",
            "      BatchNorm2d-33          [-1, 128, 16, 16]             256\n",
            "             ReLU-34          [-1, 128, 16, 16]               0\n",
            "           Conv2d-35          [-1, 128, 16, 16]         147,456\n",
            "      BatchNorm2d-36          [-1, 128, 16, 16]             256\n",
            "           Conv2d-37          [-1, 128, 16, 16]           8,192\n",
            "      BatchNorm2d-38          [-1, 128, 16, 16]             256\n",
            "             ReLU-39          [-1, 128, 16, 16]               0\n",
            "SimplifiedBasicBlock-40          [-1, 128, 16, 16]               0\n",
            "           Conv2d-41          [-1, 128, 16, 16]         147,456\n",
            "      BatchNorm2d-42          [-1, 128, 16, 16]             256\n",
            "             ReLU-43          [-1, 128, 16, 16]               0\n",
            "           Conv2d-44          [-1, 128, 16, 16]         147,456\n",
            "      BatchNorm2d-45          [-1, 128, 16, 16]             256\n",
            "             ReLU-46          [-1, 128, 16, 16]               0\n",
            "SimplifiedBasicBlock-47          [-1, 128, 16, 16]               0\n",
            "           Conv2d-48          [-1, 128, 16, 16]         147,456\n",
            "      BatchNorm2d-49          [-1, 128, 16, 16]             256\n",
            "             ReLU-50          [-1, 128, 16, 16]               0\n",
            "           Conv2d-51          [-1, 128, 16, 16]         147,456\n",
            "      BatchNorm2d-52          [-1, 128, 16, 16]             256\n",
            "             ReLU-53          [-1, 128, 16, 16]               0\n",
            "SimplifiedBasicBlock-54          [-1, 128, 16, 16]               0\n",
            "           Conv2d-55          [-1, 128, 16, 16]         147,456\n",
            "      BatchNorm2d-56          [-1, 128, 16, 16]             256\n",
            "             ReLU-57          [-1, 128, 16, 16]               0\n",
            "           Conv2d-58          [-1, 128, 16, 16]         147,456\n",
            "      BatchNorm2d-59          [-1, 128, 16, 16]             256\n",
            "             ReLU-60          [-1, 128, 16, 16]               0\n",
            "SimplifiedBasicBlock-61          [-1, 128, 16, 16]               0\n",
            "           Conv2d-62            [-1, 256, 8, 8]         294,912\n",
            "      BatchNorm2d-63            [-1, 256, 8, 8]             512\n",
            "             ReLU-64            [-1, 256, 8, 8]               0\n",
            "           Conv2d-65            [-1, 256, 8, 8]         589,824\n",
            "      BatchNorm2d-66            [-1, 256, 8, 8]             512\n",
            "           Conv2d-67            [-1, 256, 8, 8]          32,768\n",
            "      BatchNorm2d-68            [-1, 256, 8, 8]             512\n",
            "             ReLU-69            [-1, 256, 8, 8]               0\n",
            "SimplifiedBasicBlock-70            [-1, 256, 8, 8]               0\n",
            "           Conv2d-71            [-1, 256, 8, 8]         589,824\n",
            "      BatchNorm2d-72            [-1, 256, 8, 8]             512\n",
            "             ReLU-73            [-1, 256, 8, 8]               0\n",
            "           Conv2d-74            [-1, 256, 8, 8]         589,824\n",
            "      BatchNorm2d-75            [-1, 256, 8, 8]             512\n",
            "             ReLU-76            [-1, 256, 8, 8]               0\n",
            "SimplifiedBasicBlock-77            [-1, 256, 8, 8]               0\n",
            "           Conv2d-78            [-1, 256, 8, 8]         589,824\n",
            "      BatchNorm2d-79            [-1, 256, 8, 8]             512\n",
            "             ReLU-80            [-1, 256, 8, 8]               0\n",
            "           Conv2d-81            [-1, 256, 8, 8]         589,824\n",
            "      BatchNorm2d-82            [-1, 256, 8, 8]             512\n",
            "             ReLU-83            [-1, 256, 8, 8]               0\n",
            "SimplifiedBasicBlock-84            [-1, 256, 8, 8]               0\n",
            "AdaptiveAvgPool2d-85            [-1, 256, 1, 1]               0\n",
            "          Dropout-86                  [-1, 256]               0\n",
            "           Linear-87                   [-1, 10]           2,570\n",
            "================================================================\n",
            "Total params: 4,697,162\n",
            "Trainable params: 4,697,162\n",
            "Non-trainable params: 0\n",
            "----------------------------------------------------------------\n",
            "Input size (MB): 0.01\n",
            "Forward/backward pass size (MB): 25.88\n",
            "Params size (MB): 17.92\n",
            "Estimated Total Size (MB): 43.81\n",
            "----------------------------------------------------------------\n",
            "Trainable parameters: 4697162\n"
          ]
        }
      ],
      "source": [
        "class SimplifiedBasicBlock(nn.Module):\n",
        "    def __init__(self, in_channels, out_channels, stride=1):\n",
        "        super(SimplifiedBasicBlock, self).__init__()\n",
        "       # Define the first convolutional layer with batch normalization and ReLU activation\n",
        "        self.conv1 = nn.Conv2d(in_channels, out_channels, kernel_size=3, stride=stride, padding=1, bias=False)\n",
        "        self.bn1 = nn.BatchNorm2d(out_channels)\n",
        "        self.relu = nn.ReLU(inplace=True)\n",
        "        # Define the second convolutional layer with batch normalization\n",
        "        self.conv2 = nn.Conv2d(out_channels, out_channels, kernel_size=3, stride=1, padding=1, bias=False)\n",
        "        self.bn2 = nn.BatchNorm2d(out_channels)\n",
        "\n",
        "\n",
        "        # Initialize the shortcut connection as an empty sequential container\n",
        "        self.shortcut = nn.Sequential()\n",
        "        if stride != 1 or in_channels != out_channels:\n",
        "            self.shortcut = nn.Sequential(\n",
        "                nn.Conv2d(in_channels, out_channels, kernel_size=1, stride=stride, bias=False),\n",
        "                nn.BatchNorm2d(out_channels)\n",
        "            )\n",
        "\n",
        "    #Define the forward pass\n",
        "    def forward(self, x):\n",
        "        out = self.relu(self.bn1(self.conv1(x)))\n",
        "        out = self.bn2(self.conv2(out))\n",
        "        out += self.shortcut(x)  # Add the shortcut connection\n",
        "        out = self.relu(out)\n",
        "        return out\n",
        "\n",
        "\n",
        "# Define the simplified ResNet architecture\n",
        "class SimplifiedResNet(nn.Module):\n",
        "    def __init__(self, num_blocks, num_classes=10):\n",
        "        super(SimplifiedResNet, self).__init__()\n",
        "        self.in_channels = 64\n",
        "\n",
        "        # Define the initial convolutional layer, batch normalization and ReLU activation\n",
        "        self.conv1 = nn.Conv2d(3, 64, kernel_size=3, stride=1, padding=1, bias=False)\n",
        "        self.bn1 = nn.BatchNorm2d(64)\n",
        "        self.relu = nn.ReLU(inplace=True)\n",
        "\n",
        "        # Define the three layers with varying number of blocks and strides\n",
        "        self.layer1 = self._make_layer(64, num_blocks[0], stride=1)\n",
        "        self.layer2 = self._make_layer(128, num_blocks[1], stride=2)\n",
        "        self.layer3 = self._make_layer(256, num_blocks[2], stride=2)\n",
        "\n",
        "        # Define the adaptive average pooling layer, dropout and final fully connected layer\n",
        "        self.avgpool = nn.AdaptiveAvgPool2d((1, 1))\n",
        "        self.dropout = nn.Dropout(0.4)\n",
        "        self.fc = nn.Linear(256, num_classes)\n",
        "\n",
        "    \n",
        "    # Function to create layers with specified number of blocks and output channels\n",
        "    def _make_layer(self, out_channels, num_blocks, stride):\n",
        "        strides = [stride] + [1] * (num_blocks - 1)\n",
        "        layers = []\n",
        "        for stride in strides:\n",
        "            layers.append(SimplifiedBasicBlock(self.in_channels, out_channels, stride))\n",
        "            self.in_channels = out_channels\n",
        "        return nn.Sequential(*layers)\n",
        "\n",
        "    \n",
        "    # Define the forward pass of the simplified ResNet architecture\n",
        "    def forward(self, x):\n",
        "      # Apply the initial layers, followed by the three main layers\n",
        "        out = self.relu(self.bn1(self.conv1(x)))\n",
        "        out = self.layer1(out)\n",
        "        out = self.layer2(out)\n",
        "        out = self.layer3(out)\n",
        "\n",
        "        # Apply the adaptive average pooling\n",
        "        out = self.avgpool(out)\n",
        "\n",
        "        # Flatten the tensor before passing it through dropout and fully connected layer\n",
        "        out = out.view(out.size(0), -1)\n",
        "        out = out.view(out.size(0), -1)  # Flatten the tensor\n",
        "        out = self.dropout(out)\n",
        "        out = self.fc(out)\n",
        "        return out\n",
        "\n",
        "# Function to create a simplified ResNet instance with specified number of blocks\n",
        "def simplified_resnet():\n",
        "    return SimplifiedResNet(num_blocks=[4, 4, 3])\n",
        "\n",
        "# Create a simplified ResNet model instance and move it to the specified device (e.g., GPU if available)\n",
        "model = simplified_resnet().to(device)\n",
        "\n",
        "# Print a summary of the model architecture and its input/output shapes\n",
        "summary(model, (3,32,32))\n",
        "\n",
        "# Calculate and print the number of trainable parameters in the model\n",
        "print(f\"Trainable parameters: {count_parameters(model)}\")"
      ]
    },
    {
      "cell_type": "markdown",
      "source": [
        "### Training and Validation:\n",
        "Defining the optimizer, scheduler and training and validation functions for the model. "
      ],
      "metadata": {
        "id": "MMW9r1MjixfK"
      }
    },
    {
      "cell_type": "code",
      "execution_count": null,
      "metadata": {
        "id": "AIxs1-YWT7GC"
      },
      "outputs": [],
      "source": [
        "# Loss and optimizer\n",
        "criterion = nn.CrossEntropyLoss()\n",
        "optimizer = optim.SGD(model.parameters(), lr=0.1, momentum=0.9, weight_decay=5e-4)\n",
        "\n",
        "# Learning rate scheduler\n",
        "scheduler = torch.optim.lr_scheduler.MultiStepLR(optimizer, milestones=[50, 100], gamma=0.1)\n",
        "\n",
        "# Define the training function for the model.\n",
        "def train(model, dataloader, criterion, optimizer, device):\n",
        "    model.train()\n",
        "    running_loss = 0.0\n",
        "    correct = 0\n",
        "    total = 0\n",
        "# Iterate over the training data\n",
        "    for inputs, labels in tqdm(dataloader):\n",
        "        inputs, labels = inputs.to(device), labels.to(device)\n",
        "        # Zero the gradients of the optimizer\n",
        "        optimizer.zero_grad()\n",
        "        # Forward pass through the model\n",
        "        outputs = model(inputs)\n",
        "         # Calculate the loss\n",
        "        loss = criterion(outputs, labels)\n",
        "        # Backward pass to compute gradients\n",
        "        loss.backward()\n",
        "        # Update model parameters\n",
        "        optimizer.step()\n",
        "        # Update running loss and correct predictions count\n",
        "        running_loss += loss.item()\n",
        "\n",
        "        _, predicted = outputs.max(1)\n",
        "        total += labels.size(0)\n",
        "        correct += predicted.eq(labels).sum().item()\n",
        " # Calculate the average loss and accuracy for the epoch\n",
        "    epoch_loss = running_loss / len(dataloader)\n",
        "    epoch_acc = 100 * correct / total\n",
        "\n",
        "    return epoch_loss, epoch_acc\n",
        "\n",
        "\n",
        "# Define the validation function for the model\n",
        "def validate(model, dataloader, criterion, device):\n",
        "    model.eval()\n",
        "    running_loss = 0.0\n",
        "    correct = 0\n",
        "    total = 0\n",
        "    # Iterate over the validation data without updating gradients\n",
        "    with torch.no_grad():\n",
        "        for i, (inputs, labels) in enumerate(dataloader):\n",
        "            inputs, labels = inputs.to(device), labels.to(device)\n",
        "            # Forward pass through the model\n",
        "            outputs = model(inputs)\n",
        "            # Calculate the loss\n",
        "            loss = criterion(outputs, labels)\n",
        "            # Update running loss and correct predictions count\n",
        "            running_loss += loss.item()\n",
        "\n",
        "            _, predicted = outputs.max(1)\n",
        "            total += labels.size(0)\n",
        "            correct += predicted.eq(labels).sum().item()\n",
        "# Calculate the average loss and accuracy for the epoch\n",
        "    epoch_loss = running_loss / len(dataloader)\n",
        "    epoch_acc = 100 * correct / total\n",
        "\n",
        "    return epoch_loss, epoch_acc"
      ]
    },
    {
      "cell_type": "markdown",
      "source": [
        "Train and Validate the model for a specified number of epochs (200 in this case) using the previously defined train() and validate() functions. MLflow is used to log the training and validation process, and to track the performance of your model over time."
      ],
      "metadata": {
        "id": "B_1sXMNijtdk"
      }
    },
    {
      "cell_type": "code",
      "execution_count": null,
      "metadata": {
        "colab": {
          "base_uri": "https://localhost:8080/"
        },
        "id": "ISW-pxf0Zgcg",
        "outputId": "49bb1049-dae1-4570-8c2a-496f81269121"
      },
      "outputs": [
        {
          "name": "stderr",
          "output_type": "stream",
          "text": [
            "100%|██████████| 500/500 [00:12<00:00, 41.17it/s]\n"
          ]
        },
        {
          "name": "stdout",
          "output_type": "stream",
          "text": [
            "Epoch: 1/200 | Train Loss: 1.7791 | Train Acc: 34.4440 | Test Loss: 1.6590 | Test Acc: 42.6600\n"
          ]
        },
        {
          "name": "stderr",
          "output_type": "stream",
          "text": [
            "100%|██████████| 500/500 [00:11<00:00, 41.80it/s]\n"
          ]
        },
        {
          "name": "stdout",
          "output_type": "stream",
          "text": [
            "Epoch: 2/200 | Train Loss: 1.2463 | Train Acc: 54.7180 | Test Loss: 1.5177 | Test Acc: 52.4400\n"
          ]
        },
        {
          "name": "stderr",
          "output_type": "stream",
          "text": [
            "100%|██████████| 500/500 [00:12<00:00, 41.60it/s]\n"
          ]
        },
        {
          "name": "stdout",
          "output_type": "stream",
          "text": [
            "Epoch: 3/200 | Train Loss: 0.9902 | Train Acc: 64.9880 | Test Loss: 0.9908 | Test Acc: 66.5300\n"
          ]
        },
        {
          "name": "stderr",
          "output_type": "stream",
          "text": [
            "100%|██████████| 500/500 [00:12<00:00, 40.80it/s]\n"
          ]
        },
        {
          "name": "stdout",
          "output_type": "stream",
          "text": [
            "Epoch: 4/200 | Train Loss: 0.7955 | Train Acc: 72.5400 | Test Loss: 0.8310 | Test Acc: 72.3600\n"
          ]
        },
        {
          "name": "stderr",
          "output_type": "stream",
          "text": [
            "100%|██████████| 500/500 [00:12<00:00, 41.26it/s]\n"
          ]
        },
        {
          "name": "stdout",
          "output_type": "stream",
          "text": [
            "Epoch: 5/200 | Train Loss: 0.6909 | Train Acc: 76.2680 | Test Loss: 1.1093 | Test Acc: 65.9400\n"
          ]
        },
        {
          "name": "stderr",
          "output_type": "stream",
          "text": [
            "100%|██████████| 500/500 [00:12<00:00, 40.56it/s]\n"
          ]
        },
        {
          "name": "stdout",
          "output_type": "stream",
          "text": [
            "Epoch: 6/200 | Train Loss: 0.6280 | Train Acc: 78.4420 | Test Loss: 0.7268 | Test Acc: 75.6800\n"
          ]
        },
        {
          "name": "stderr",
          "output_type": "stream",
          "text": [
            "100%|██████████| 500/500 [00:12<00:00, 41.20it/s]\n"
          ]
        },
        {
          "name": "stdout",
          "output_type": "stream",
          "text": [
            "Epoch: 7/200 | Train Loss: 0.5818 | Train Acc: 80.3100 | Test Loss: 0.7149 | Test Acc: 75.8200\n"
          ]
        },
        {
          "name": "stderr",
          "output_type": "stream",
          "text": [
            "100%|██████████| 500/500 [00:12<00:00, 39.15it/s]\n"
          ]
        },
        {
          "name": "stdout",
          "output_type": "stream",
          "text": [
            "Epoch: 8/200 | Train Loss: 0.5579 | Train Acc: 81.0520 | Test Loss: 0.7505 | Test Acc: 75.6300\n"
          ]
        },
        {
          "name": "stderr",
          "output_type": "stream",
          "text": [
            "100%|██████████| 500/500 [00:12<00:00, 40.30it/s]\n"
          ]
        },
        {
          "name": "stdout",
          "output_type": "stream",
          "text": [
            "Epoch: 9/200 | Train Loss: 0.5338 | Train Acc: 81.8000 | Test Loss: 0.6033 | Test Acc: 79.6900\n"
          ]
        },
        {
          "name": "stderr",
          "output_type": "stream",
          "text": [
            "100%|██████████| 500/500 [00:12<00:00, 38.77it/s]\n"
          ]
        },
        {
          "name": "stdout",
          "output_type": "stream",
          "text": [
            "Epoch: 10/200 | Train Loss: 0.5122 | Train Acc: 82.7480 | Test Loss: 1.3486 | Test Acc: 64.4100\n"
          ]
        },
        {
          "name": "stderr",
          "output_type": "stream",
          "text": [
            "100%|██████████| 500/500 [00:12<00:00, 38.56it/s]\n"
          ]
        },
        {
          "name": "stdout",
          "output_type": "stream",
          "text": [
            "Epoch: 11/200 | Train Loss: 0.4976 | Train Acc: 83.2400 | Test Loss: 0.7409 | Test Acc: 76.1200\n"
          ]
        },
        {
          "name": "stderr",
          "output_type": "stream",
          "text": [
            "100%|██████████| 500/500 [00:12<00:00, 39.00it/s]\n"
          ]
        },
        {
          "name": "stdout",
          "output_type": "stream",
          "text": [
            "Epoch: 12/200 | Train Loss: 0.4814 | Train Acc: 83.7940 | Test Loss: 0.6656 | Test Acc: 79.0000\n"
          ]
        },
        {
          "name": "stderr",
          "output_type": "stream",
          "text": [
            "100%|██████████| 500/500 [00:13<00:00, 38.28it/s]\n"
          ]
        },
        {
          "name": "stdout",
          "output_type": "stream",
          "text": [
            "Epoch: 13/200 | Train Loss: 0.4728 | Train Acc: 83.9640 | Test Loss: 0.7047 | Test Acc: 77.5000\n"
          ]
        },
        {
          "name": "stderr",
          "output_type": "stream",
          "text": [
            "100%|██████████| 500/500 [00:12<00:00, 38.50it/s]\n"
          ]
        },
        {
          "name": "stdout",
          "output_type": "stream",
          "text": [
            "Epoch: 14/200 | Train Loss: 0.4624 | Train Acc: 84.3780 | Test Loss: 0.6336 | Test Acc: 78.1900\n"
          ]
        },
        {
          "name": "stderr",
          "output_type": "stream",
          "text": [
            "100%|██████████| 500/500 [00:12<00:00, 39.03it/s]\n"
          ]
        },
        {
          "name": "stdout",
          "output_type": "stream",
          "text": [
            "Epoch: 15/200 | Train Loss: 0.4536 | Train Acc: 84.5360 | Test Loss: 0.7184 | Test Acc: 77.4000\n"
          ]
        },
        {
          "name": "stderr",
          "output_type": "stream",
          "text": [
            "100%|██████████| 500/500 [00:12<00:00, 39.13it/s]\n"
          ]
        },
        {
          "name": "stdout",
          "output_type": "stream",
          "text": [
            "Epoch: 16/200 | Train Loss: 0.4505 | Train Acc: 84.7440 | Test Loss: 0.5691 | Test Acc: 81.6700\n"
          ]
        },
        {
          "name": "stderr",
          "output_type": "stream",
          "text": [
            "100%|██████████| 500/500 [00:12<00:00, 38.59it/s]\n"
          ]
        },
        {
          "name": "stdout",
          "output_type": "stream",
          "text": [
            "Epoch: 17/200 | Train Loss: 0.4375 | Train Acc: 85.1800 | Test Loss: 0.6122 | Test Acc: 79.8200\n"
          ]
        },
        {
          "name": "stderr",
          "output_type": "stream",
          "text": [
            "100%|██████████| 500/500 [00:13<00:00, 38.18it/s]\n"
          ]
        },
        {
          "name": "stdout",
          "output_type": "stream",
          "text": [
            "Epoch: 18/200 | Train Loss: 0.4378 | Train Acc: 85.1840 | Test Loss: 0.5391 | Test Acc: 81.5700\n"
          ]
        },
        {
          "name": "stderr",
          "output_type": "stream",
          "text": [
            "100%|██████████| 500/500 [00:13<00:00, 37.61it/s]\n"
          ]
        },
        {
          "name": "stdout",
          "output_type": "stream",
          "text": [
            "Epoch: 19/200 | Train Loss: 0.4239 | Train Acc: 85.7320 | Test Loss: 0.5602 | Test Acc: 81.6900\n"
          ]
        },
        {
          "name": "stderr",
          "output_type": "stream",
          "text": [
            "100%|██████████| 500/500 [00:12<00:00, 38.54it/s]\n"
          ]
        },
        {
          "name": "stdout",
          "output_type": "stream",
          "text": [
            "Epoch: 20/200 | Train Loss: 0.4246 | Train Acc: 85.7280 | Test Loss: 0.5360 | Test Acc: 81.7800\n"
          ]
        },
        {
          "name": "stderr",
          "output_type": "stream",
          "text": [
            "100%|██████████| 500/500 [00:12<00:00, 39.06it/s]\n"
          ]
        },
        {
          "name": "stdout",
          "output_type": "stream",
          "text": [
            "Epoch: 21/200 | Train Loss: 0.4240 | Train Acc: 85.7860 | Test Loss: 0.5556 | Test Acc: 82.1000\n"
          ]
        },
        {
          "name": "stderr",
          "output_type": "stream",
          "text": [
            "100%|██████████| 500/500 [00:12<00:00, 38.63it/s]\n"
          ]
        },
        {
          "name": "stdout",
          "output_type": "stream",
          "text": [
            "Epoch: 22/200 | Train Loss: 0.4081 | Train Acc: 86.2080 | Test Loss: 0.5218 | Test Acc: 82.4600\n"
          ]
        },
        {
          "name": "stderr",
          "output_type": "stream",
          "text": [
            "100%|██████████| 500/500 [00:12<00:00, 38.74it/s]\n"
          ]
        },
        {
          "name": "stdout",
          "output_type": "stream",
          "text": [
            "Epoch: 23/200 | Train Loss: 0.4113 | Train Acc: 86.1920 | Test Loss: 0.5393 | Test Acc: 81.8700\n"
          ]
        },
        {
          "name": "stderr",
          "output_type": "stream",
          "text": [
            "100%|██████████| 500/500 [00:12<00:00, 39.16it/s]\n"
          ]
        },
        {
          "name": "stdout",
          "output_type": "stream",
          "text": [
            "Epoch: 24/200 | Train Loss: 0.4018 | Train Acc: 86.3760 | Test Loss: 0.4481 | Test Acc: 85.2100\n"
          ]
        },
        {
          "name": "stderr",
          "output_type": "stream",
          "text": [
            "100%|██████████| 500/500 [00:12<00:00, 38.56it/s]\n"
          ]
        },
        {
          "name": "stdout",
          "output_type": "stream",
          "text": [
            "Epoch: 25/200 | Train Loss: 0.4062 | Train Acc: 86.3020 | Test Loss: 0.4707 | Test Acc: 84.3100\n"
          ]
        },
        {
          "name": "stderr",
          "output_type": "stream",
          "text": [
            "100%|██████████| 500/500 [00:12<00:00, 38.71it/s]\n"
          ]
        },
        {
          "name": "stdout",
          "output_type": "stream",
          "text": [
            "Epoch: 26/200 | Train Loss: 0.4004 | Train Acc: 86.5240 | Test Loss: 0.5354 | Test Acc: 82.4200\n"
          ]
        },
        {
          "name": "stderr",
          "output_type": "stream",
          "text": [
            "100%|██████████| 500/500 [00:12<00:00, 38.47it/s]\n"
          ]
        },
        {
          "name": "stdout",
          "output_type": "stream",
          "text": [
            "Epoch: 27/200 | Train Loss: 0.3959 | Train Acc: 86.5940 | Test Loss: 0.6564 | Test Acc: 79.7800\n"
          ]
        },
        {
          "name": "stderr",
          "output_type": "stream",
          "text": [
            "100%|██████████| 500/500 [00:12<00:00, 38.91it/s]\n"
          ]
        },
        {
          "name": "stdout",
          "output_type": "stream",
          "text": [
            "Epoch: 28/200 | Train Loss: 0.3932 | Train Acc: 86.7720 | Test Loss: 0.7670 | Test Acc: 76.5100\n"
          ]
        },
        {
          "name": "stderr",
          "output_type": "stream",
          "text": [
            "100%|██████████| 500/500 [00:13<00:00, 38.35it/s]\n"
          ]
        },
        {
          "name": "stdout",
          "output_type": "stream",
          "text": [
            "Epoch: 29/200 | Train Loss: 0.3932 | Train Acc: 86.7920 | Test Loss: 0.6298 | Test Acc: 80.5200\n"
          ]
        },
        {
          "name": "stderr",
          "output_type": "stream",
          "text": [
            "100%|██████████| 500/500 [00:12<00:00, 38.71it/s]\n"
          ]
        },
        {
          "name": "stdout",
          "output_type": "stream",
          "text": [
            "Epoch: 30/200 | Train Loss: 0.3927 | Train Acc: 86.7860 | Test Loss: 0.5112 | Test Acc: 82.9000\n"
          ]
        },
        {
          "name": "stderr",
          "output_type": "stream",
          "text": [
            "100%|██████████| 500/500 [00:12<00:00, 38.91it/s]\n"
          ]
        },
        {
          "name": "stdout",
          "output_type": "stream",
          "text": [
            "Epoch: 31/200 | Train Loss: 0.3905 | Train Acc: 86.9100 | Test Loss: 0.5463 | Test Acc: 81.7000\n"
          ]
        },
        {
          "name": "stderr",
          "output_type": "stream",
          "text": [
            "100%|██████████| 500/500 [00:13<00:00, 38.44it/s]\n"
          ]
        },
        {
          "name": "stdout",
          "output_type": "stream",
          "text": [
            "Epoch: 32/200 | Train Loss: 0.3906 | Train Acc: 86.8740 | Test Loss: 0.5362 | Test Acc: 82.3400\n"
          ]
        },
        {
          "name": "stderr",
          "output_type": "stream",
          "text": [
            "100%|██████████| 500/500 [00:13<00:00, 38.45it/s]\n"
          ]
        },
        {
          "name": "stdout",
          "output_type": "stream",
          "text": [
            "Epoch: 33/200 | Train Loss: 0.3857 | Train Acc: 87.0340 | Test Loss: 0.5778 | Test Acc: 82.0500\n"
          ]
        },
        {
          "name": "stderr",
          "output_type": "stream",
          "text": [
            "100%|██████████| 500/500 [00:13<00:00, 38.37it/s]\n"
          ]
        },
        {
          "name": "stdout",
          "output_type": "stream",
          "text": [
            "Epoch: 34/200 | Train Loss: 0.3860 | Train Acc: 86.9200 | Test Loss: 0.5802 | Test Acc: 80.9000\n"
          ]
        },
        {
          "name": "stderr",
          "output_type": "stream",
          "text": [
            "100%|██████████| 500/500 [00:13<00:00, 38.11it/s]\n"
          ]
        },
        {
          "name": "stdout",
          "output_type": "stream",
          "text": [
            "Epoch: 35/200 | Train Loss: 0.3845 | Train Acc: 86.9860 | Test Loss: 0.5698 | Test Acc: 81.8500\n"
          ]
        },
        {
          "name": "stderr",
          "output_type": "stream",
          "text": [
            "100%|██████████| 500/500 [00:13<00:00, 38.28it/s]\n"
          ]
        },
        {
          "name": "stdout",
          "output_type": "stream",
          "text": [
            "Epoch: 36/200 | Train Loss: 0.3830 | Train Acc: 87.1780 | Test Loss: 0.6319 | Test Acc: 79.1500\n"
          ]
        },
        {
          "name": "stderr",
          "output_type": "stream",
          "text": [
            "100%|██████████| 500/500 [00:12<00:00, 39.27it/s]\n"
          ]
        },
        {
          "name": "stdout",
          "output_type": "stream",
          "text": [
            "Epoch: 37/200 | Train Loss: 0.3801 | Train Acc: 87.3400 | Test Loss: 0.5230 | Test Acc: 82.4300\n"
          ]
        },
        {
          "name": "stderr",
          "output_type": "stream",
          "text": [
            "100%|██████████| 500/500 [00:12<00:00, 39.85it/s]\n"
          ]
        },
        {
          "name": "stdout",
          "output_type": "stream",
          "text": [
            "Epoch: 38/200 | Train Loss: 0.3768 | Train Acc: 87.3840 | Test Loss: 0.6733 | Test Acc: 78.1500\n"
          ]
        },
        {
          "name": "stderr",
          "output_type": "stream",
          "text": [
            "100%|██████████| 500/500 [00:12<00:00, 40.73it/s]\n"
          ]
        },
        {
          "name": "stdout",
          "output_type": "stream",
          "text": [
            "Epoch: 39/200 | Train Loss: 0.3785 | Train Acc: 87.1800 | Test Loss: 0.5674 | Test Acc: 81.6400\n"
          ]
        },
        {
          "name": "stderr",
          "output_type": "stream",
          "text": [
            "100%|██████████| 500/500 [00:12<00:00, 41.09it/s]\n"
          ]
        },
        {
          "name": "stdout",
          "output_type": "stream",
          "text": [
            "Epoch: 40/200 | Train Loss: 0.3781 | Train Acc: 87.3380 | Test Loss: 0.5607 | Test Acc: 82.0200\n"
          ]
        },
        {
          "name": "stderr",
          "output_type": "stream",
          "text": [
            "100%|██████████| 500/500 [00:12<00:00, 41.12it/s]\n"
          ]
        },
        {
          "name": "stdout",
          "output_type": "stream",
          "text": [
            "Epoch: 41/200 | Train Loss: 0.3825 | Train Acc: 87.1100 | Test Loss: 0.6058 | Test Acc: 80.3500\n"
          ]
        },
        {
          "name": "stderr",
          "output_type": "stream",
          "text": [
            "100%|██████████| 500/500 [00:12<00:00, 40.83it/s]\n"
          ]
        },
        {
          "name": "stdout",
          "output_type": "stream",
          "text": [
            "Epoch: 42/200 | Train Loss: 0.3813 | Train Acc: 87.2300 | Test Loss: 0.4602 | Test Acc: 85.2100\n"
          ]
        },
        {
          "name": "stderr",
          "output_type": "stream",
          "text": [
            "100%|██████████| 500/500 [00:12<00:00, 41.07it/s]\n"
          ]
        },
        {
          "name": "stdout",
          "output_type": "stream",
          "text": [
            "Epoch: 43/200 | Train Loss: 0.3778 | Train Acc: 87.3760 | Test Loss: 0.6035 | Test Acc: 81.0900\n"
          ]
        },
        {
          "name": "stderr",
          "output_type": "stream",
          "text": [
            "100%|██████████| 500/500 [00:12<00:00, 41.30it/s]\n"
          ]
        },
        {
          "name": "stdout",
          "output_type": "stream",
          "text": [
            "Epoch: 44/200 | Train Loss: 0.3681 | Train Acc: 87.6600 | Test Loss: 0.4977 | Test Acc: 83.7900\n"
          ]
        },
        {
          "name": "stderr",
          "output_type": "stream",
          "text": [
            "100%|██████████| 500/500 [00:12<00:00, 41.15it/s]\n"
          ]
        },
        {
          "name": "stdout",
          "output_type": "stream",
          "text": [
            "Epoch: 45/200 | Train Loss: 0.3736 | Train Acc: 87.4800 | Test Loss: 0.4769 | Test Acc: 83.8400\n"
          ]
        },
        {
          "name": "stderr",
          "output_type": "stream",
          "text": [
            "100%|██████████| 500/500 [00:12<00:00, 41.14it/s]\n"
          ]
        },
        {
          "name": "stdout",
          "output_type": "stream",
          "text": [
            "Epoch: 46/200 | Train Loss: 0.3759 | Train Acc: 87.2560 | Test Loss: 0.7341 | Test Acc: 76.8900\n"
          ]
        },
        {
          "name": "stderr",
          "output_type": "stream",
          "text": [
            "100%|██████████| 500/500 [00:12<00:00, 41.20it/s]\n"
          ]
        },
        {
          "name": "stdout",
          "output_type": "stream",
          "text": [
            "Epoch: 47/200 | Train Loss: 0.3756 | Train Acc: 87.3360 | Test Loss: 0.6809 | Test Acc: 77.9300\n"
          ]
        },
        {
          "name": "stderr",
          "output_type": "stream",
          "text": [
            "100%|██████████| 500/500 [00:12<00:00, 41.23it/s]\n"
          ]
        },
        {
          "name": "stdout",
          "output_type": "stream",
          "text": [
            "Epoch: 48/200 | Train Loss: 0.3723 | Train Acc: 87.3380 | Test Loss: 0.5320 | Test Acc: 82.3600\n"
          ]
        },
        {
          "name": "stderr",
          "output_type": "stream",
          "text": [
            "100%|██████████| 500/500 [00:12<00:00, 41.11it/s]\n"
          ]
        },
        {
          "name": "stdout",
          "output_type": "stream",
          "text": [
            "Epoch: 49/200 | Train Loss: 0.3703 | Train Acc: 87.5480 | Test Loss: 0.6482 | Test Acc: 80.7200\n"
          ]
        },
        {
          "name": "stderr",
          "output_type": "stream",
          "text": [
            "100%|██████████| 500/500 [00:12<00:00, 40.76it/s]\n"
          ]
        },
        {
          "name": "stdout",
          "output_type": "stream",
          "text": [
            "Epoch: 50/200 | Train Loss: 0.3690 | Train Acc: 87.6660 | Test Loss: 0.4863 | Test Acc: 83.9500\n"
          ]
        },
        {
          "name": "stderr",
          "output_type": "stream",
          "text": [
            "100%|██████████| 500/500 [00:12<00:00, 41.45it/s]\n"
          ]
        },
        {
          "name": "stdout",
          "output_type": "stream",
          "text": [
            "Epoch: 51/200 | Train Loss: 0.2028 | Train Acc: 93.2520 | Test Loss: 0.2191 | Test Acc: 92.1500\n"
          ]
        },
        {
          "name": "stderr",
          "output_type": "stream",
          "text": [
            "100%|██████████| 500/500 [00:12<00:00, 41.61it/s]\n"
          ]
        },
        {
          "name": "stdout",
          "output_type": "stream",
          "text": [
            "Epoch: 52/200 | Train Loss: 0.1503 | Train Acc: 95.0840 | Test Loss: 0.2021 | Test Acc: 93.0500\n"
          ]
        },
        {
          "name": "stderr",
          "output_type": "stream",
          "text": [
            "100%|██████████| 500/500 [00:12<00:00, 40.63it/s]\n"
          ]
        },
        {
          "name": "stdout",
          "output_type": "stream",
          "text": [
            "Epoch: 53/200 | Train Loss: 0.1274 | Train Acc: 95.8040 | Test Loss: 0.1944 | Test Acc: 93.5600\n"
          ]
        },
        {
          "name": "stderr",
          "output_type": "stream",
          "text": [
            "100%|██████████| 500/500 [00:12<00:00, 40.98it/s]\n"
          ]
        },
        {
          "name": "stdout",
          "output_type": "stream",
          "text": [
            "Epoch: 54/200 | Train Loss: 0.1131 | Train Acc: 96.2540 | Test Loss: 0.2030 | Test Acc: 93.3000\n"
          ]
        },
        {
          "name": "stderr",
          "output_type": "stream",
          "text": [
            "100%|██████████| 500/500 [00:12<00:00, 40.44it/s]\n"
          ]
        },
        {
          "name": "stdout",
          "output_type": "stream",
          "text": [
            "Epoch: 55/200 | Train Loss: 0.1030 | Train Acc: 96.5980 | Test Loss: 0.2022 | Test Acc: 93.6200\n"
          ]
        },
        {
          "name": "stderr",
          "output_type": "stream",
          "text": [
            "100%|██████████| 500/500 [00:12<00:00, 40.98it/s]\n"
          ]
        },
        {
          "name": "stdout",
          "output_type": "stream",
          "text": [
            "Epoch: 56/200 | Train Loss: 0.0896 | Train Acc: 97.1260 | Test Loss: 0.2040 | Test Acc: 93.3600\n"
          ]
        },
        {
          "name": "stderr",
          "output_type": "stream",
          "text": [
            "100%|██████████| 500/500 [00:12<00:00, 41.30it/s]\n"
          ]
        },
        {
          "name": "stdout",
          "output_type": "stream",
          "text": [
            "Epoch: 57/200 | Train Loss: 0.0808 | Train Acc: 97.3440 | Test Loss: 0.2010 | Test Acc: 93.7700\n"
          ]
        },
        {
          "name": "stderr",
          "output_type": "stream",
          "text": [
            "100%|██████████| 500/500 [00:12<00:00, 40.45it/s]\n"
          ]
        },
        {
          "name": "stdout",
          "output_type": "stream",
          "text": [
            "Epoch: 58/200 | Train Loss: 0.0778 | Train Acc: 97.4700 | Test Loss: 0.2010 | Test Acc: 93.8800\n"
          ]
        },
        {
          "name": "stderr",
          "output_type": "stream",
          "text": [
            "100%|██████████| 500/500 [00:12<00:00, 40.93it/s]\n"
          ]
        },
        {
          "name": "stdout",
          "output_type": "stream",
          "text": [
            "Epoch: 59/200 | Train Loss: 0.0681 | Train Acc: 97.8960 | Test Loss: 0.2046 | Test Acc: 93.7500\n"
          ]
        },
        {
          "name": "stderr",
          "output_type": "stream",
          "text": [
            "100%|██████████| 500/500 [00:12<00:00, 41.30it/s]\n"
          ]
        },
        {
          "name": "stdout",
          "output_type": "stream",
          "text": [
            "Epoch: 60/200 | Train Loss: 0.0626 | Train Acc: 97.9920 | Test Loss: 0.2136 | Test Acc: 93.6700\n"
          ]
        },
        {
          "name": "stderr",
          "output_type": "stream",
          "text": [
            "100%|██████████| 500/500 [00:12<00:00, 41.22it/s]\n"
          ]
        },
        {
          "name": "stdout",
          "output_type": "stream",
          "text": [
            "Epoch: 61/200 | Train Loss: 0.0606 | Train Acc: 98.0080 | Test Loss: 0.2089 | Test Acc: 93.6700\n"
          ]
        },
        {
          "name": "stderr",
          "output_type": "stream",
          "text": [
            "100%|██████████| 500/500 [00:12<00:00, 40.66it/s]\n"
          ]
        },
        {
          "name": "stdout",
          "output_type": "stream",
          "text": [
            "Epoch: 62/200 | Train Loss: 0.0584 | Train Acc: 98.1320 | Test Loss: 0.2272 | Test Acc: 93.1500\n"
          ]
        },
        {
          "name": "stderr",
          "output_type": "stream",
          "text": [
            "100%|██████████| 500/500 [00:12<00:00, 39.87it/s]\n"
          ]
        },
        {
          "name": "stdout",
          "output_type": "stream",
          "text": [
            "Epoch: 63/200 | Train Loss: 0.0561 | Train Acc: 98.1960 | Test Loss: 0.2085 | Test Acc: 93.7700\n"
          ]
        },
        {
          "name": "stderr",
          "output_type": "stream",
          "text": [
            "100%|██████████| 500/500 [00:12<00:00, 40.07it/s]\n"
          ]
        },
        {
          "name": "stdout",
          "output_type": "stream",
          "text": [
            "Epoch: 64/200 | Train Loss: 0.0505 | Train Acc: 98.3660 | Test Loss: 0.2280 | Test Acc: 93.3700\n"
          ]
        },
        {
          "name": "stderr",
          "output_type": "stream",
          "text": [
            "100%|██████████| 500/500 [00:12<00:00, 41.45it/s]\n"
          ]
        },
        {
          "name": "stdout",
          "output_type": "stream",
          "text": [
            "Epoch: 65/200 | Train Loss: 0.0522 | Train Acc: 98.3180 | Test Loss: 0.2360 | Test Acc: 93.2900\n"
          ]
        },
        {
          "name": "stderr",
          "output_type": "stream",
          "text": [
            "100%|██████████| 500/500 [00:12<00:00, 40.29it/s]\n"
          ]
        },
        {
          "name": "stdout",
          "output_type": "stream",
          "text": [
            "Epoch: 66/200 | Train Loss: 0.0523 | Train Acc: 98.3960 | Test Loss: 0.2200 | Test Acc: 93.5900\n"
          ]
        },
        {
          "name": "stderr",
          "output_type": "stream",
          "text": [
            "100%|██████████| 500/500 [00:12<00:00, 40.53it/s]\n"
          ]
        },
        {
          "name": "stdout",
          "output_type": "stream",
          "text": [
            "Epoch: 67/200 | Train Loss: 0.0510 | Train Acc: 98.3980 | Test Loss: 0.2466 | Test Acc: 93.2300\n"
          ]
        },
        {
          "name": "stderr",
          "output_type": "stream",
          "text": [
            "100%|██████████| 500/500 [00:12<00:00, 40.52it/s]\n"
          ]
        },
        {
          "name": "stdout",
          "output_type": "stream",
          "text": [
            "Epoch: 68/200 | Train Loss: 0.0480 | Train Acc: 98.5100 | Test Loss: 0.2667 | Test Acc: 92.7700\n"
          ]
        },
        {
          "name": "stderr",
          "output_type": "stream",
          "text": [
            "100%|██████████| 500/500 [00:12<00:00, 41.30it/s]\n"
          ]
        },
        {
          "name": "stdout",
          "output_type": "stream",
          "text": [
            "Epoch: 69/200 | Train Loss: 0.0557 | Train Acc: 98.2520 | Test Loss: 0.2397 | Test Acc: 93.1200\n"
          ]
        },
        {
          "name": "stderr",
          "output_type": "stream",
          "text": [
            "100%|██████████| 500/500 [00:12<00:00, 40.91it/s]\n"
          ]
        },
        {
          "name": "stdout",
          "output_type": "stream",
          "text": [
            "Epoch: 70/200 | Train Loss: 0.0515 | Train Acc: 98.3640 | Test Loss: 0.2589 | Test Acc: 92.7700\n"
          ]
        },
        {
          "name": "stderr",
          "output_type": "stream",
          "text": [
            "100%|██████████| 500/500 [00:12<00:00, 40.93it/s]\n"
          ]
        },
        {
          "name": "stdout",
          "output_type": "stream",
          "text": [
            "Epoch: 71/200 | Train Loss: 0.0504 | Train Acc: 98.4180 | Test Loss: 0.2224 | Test Acc: 93.6300\n"
          ]
        },
        {
          "name": "stderr",
          "output_type": "stream",
          "text": [
            "100%|██████████| 500/500 [00:12<00:00, 41.30it/s]\n"
          ]
        },
        {
          "name": "stdout",
          "output_type": "stream",
          "text": [
            "Epoch: 72/200 | Train Loss: 0.0561 | Train Acc: 98.1920 | Test Loss: 0.2358 | Test Acc: 93.1600\n"
          ]
        },
        {
          "name": "stderr",
          "output_type": "stream",
          "text": [
            "100%|██████████| 500/500 [00:12<00:00, 41.32it/s]\n"
          ]
        },
        {
          "name": "stdout",
          "output_type": "stream",
          "text": [
            "Epoch: 73/200 | Train Loss: 0.0557 | Train Acc: 98.1880 | Test Loss: 0.2455 | Test Acc: 93.0000\n"
          ]
        },
        {
          "name": "stderr",
          "output_type": "stream",
          "text": [
            "100%|██████████| 500/500 [00:12<00:00, 40.42it/s]\n"
          ]
        },
        {
          "name": "stdout",
          "output_type": "stream",
          "text": [
            "Epoch: 74/200 | Train Loss: 0.0529 | Train Acc: 98.3200 | Test Loss: 0.2837 | Test Acc: 92.1000\n"
          ]
        },
        {
          "name": "stderr",
          "output_type": "stream",
          "text": [
            "100%|██████████| 500/500 [00:12<00:00, 41.18it/s]\n"
          ]
        },
        {
          "name": "stdout",
          "output_type": "stream",
          "text": [
            "Epoch: 75/200 | Train Loss: 0.0534 | Train Acc: 98.3480 | Test Loss: 0.2325 | Test Acc: 93.2600\n"
          ]
        },
        {
          "name": "stderr",
          "output_type": "stream",
          "text": [
            "100%|██████████| 500/500 [00:12<00:00, 41.26it/s]\n"
          ]
        },
        {
          "name": "stdout",
          "output_type": "stream",
          "text": [
            "Epoch: 76/200 | Train Loss: 0.0527 | Train Acc: 98.3500 | Test Loss: 0.2741 | Test Acc: 92.3200\n"
          ]
        },
        {
          "name": "stderr",
          "output_type": "stream",
          "text": [
            "100%|██████████| 500/500 [00:12<00:00, 41.39it/s]\n"
          ]
        },
        {
          "name": "stdout",
          "output_type": "stream",
          "text": [
            "Epoch: 77/200 | Train Loss: 0.0572 | Train Acc: 98.1320 | Test Loss: 0.2462 | Test Acc: 93.1300\n"
          ]
        },
        {
          "name": "stderr",
          "output_type": "stream",
          "text": [
            "100%|██████████| 500/500 [00:12<00:00, 40.75it/s]\n"
          ]
        },
        {
          "name": "stdout",
          "output_type": "stream",
          "text": [
            "Epoch: 78/200 | Train Loss: 0.0595 | Train Acc: 98.1040 | Test Loss: 0.2437 | Test Acc: 92.9600\n"
          ]
        },
        {
          "name": "stderr",
          "output_type": "stream",
          "text": [
            "100%|██████████| 500/500 [00:12<00:00, 40.75it/s]\n"
          ]
        },
        {
          "name": "stdout",
          "output_type": "stream",
          "text": [
            "Epoch: 79/200 | Train Loss: 0.0596 | Train Acc: 98.0600 | Test Loss: 0.2613 | Test Acc: 92.3100\n"
          ]
        },
        {
          "name": "stderr",
          "output_type": "stream",
          "text": [
            "100%|██████████| 500/500 [00:12<00:00, 41.05it/s]\n"
          ]
        },
        {
          "name": "stdout",
          "output_type": "stream",
          "text": [
            "Epoch: 80/200 | Train Loss: 0.0561 | Train Acc: 98.1900 | Test Loss: 0.2691 | Test Acc: 92.5000\n"
          ]
        },
        {
          "name": "stderr",
          "output_type": "stream",
          "text": [
            "100%|██████████| 500/500 [00:12<00:00, 41.44it/s]\n"
          ]
        },
        {
          "name": "stdout",
          "output_type": "stream",
          "text": [
            "Epoch: 81/200 | Train Loss: 0.0564 | Train Acc: 98.2460 | Test Loss: 0.2407 | Test Acc: 92.8200\n"
          ]
        },
        {
          "name": "stderr",
          "output_type": "stream",
          "text": [
            "100%|██████████| 500/500 [00:12<00:00, 41.17it/s]\n"
          ]
        },
        {
          "name": "stdout",
          "output_type": "stream",
          "text": [
            "Epoch: 82/200 | Train Loss: 0.0571 | Train Acc: 98.2280 | Test Loss: 0.2529 | Test Acc: 92.9400\n"
          ]
        },
        {
          "name": "stderr",
          "output_type": "stream",
          "text": [
            "100%|██████████| 500/500 [00:12<00:00, 41.22it/s]\n"
          ]
        },
        {
          "name": "stdout",
          "output_type": "stream",
          "text": [
            "Epoch: 83/200 | Train Loss: 0.0641 | Train Acc: 97.9260 | Test Loss: 0.2497 | Test Acc: 92.9000\n"
          ]
        },
        {
          "name": "stderr",
          "output_type": "stream",
          "text": [
            "100%|██████████| 500/500 [00:12<00:00, 41.23it/s]\n"
          ]
        },
        {
          "name": "stdout",
          "output_type": "stream",
          "text": [
            "Epoch: 84/200 | Train Loss: 0.0576 | Train Acc: 98.0960 | Test Loss: 0.2727 | Test Acc: 92.3400\n"
          ]
        },
        {
          "name": "stderr",
          "output_type": "stream",
          "text": [
            "100%|██████████| 500/500 [00:12<00:00, 41.08it/s]\n"
          ]
        },
        {
          "name": "stdout",
          "output_type": "stream",
          "text": [
            "Epoch: 85/200 | Train Loss: 0.0582 | Train Acc: 98.0780 | Test Loss: 0.2909 | Test Acc: 92.1500\n"
          ]
        },
        {
          "name": "stderr",
          "output_type": "stream",
          "text": [
            "100%|██████████| 500/500 [00:12<00:00, 41.39it/s]\n"
          ]
        },
        {
          "name": "stdout",
          "output_type": "stream",
          "text": [
            "Epoch: 86/200 | Train Loss: 0.0546 | Train Acc: 98.2600 | Test Loss: 0.3099 | Test Acc: 91.6500\n"
          ]
        },
        {
          "name": "stderr",
          "output_type": "stream",
          "text": [
            "100%|██████████| 500/500 [00:12<00:00, 40.79it/s]\n"
          ]
        },
        {
          "name": "stdout",
          "output_type": "stream",
          "text": [
            "Epoch: 87/200 | Train Loss: 0.0615 | Train Acc: 98.0500 | Test Loss: 0.3659 | Test Acc: 90.3200\n"
          ]
        },
        {
          "name": "stderr",
          "output_type": "stream",
          "text": [
            "100%|██████████| 500/500 [00:12<00:00, 40.58it/s]\n"
          ]
        },
        {
          "name": "stdout",
          "output_type": "stream",
          "text": [
            "Epoch: 88/200 | Train Loss: 0.0645 | Train Acc: 97.8680 | Test Loss: 0.2284 | Test Acc: 93.1200\n"
          ]
        },
        {
          "name": "stderr",
          "output_type": "stream",
          "text": [
            "100%|██████████| 500/500 [00:12<00:00, 41.29it/s]\n"
          ]
        },
        {
          "name": "stdout",
          "output_type": "stream",
          "text": [
            "Epoch: 89/200 | Train Loss: 0.0620 | Train Acc: 98.0340 | Test Loss: 0.3150 | Test Acc: 91.3900\n"
          ]
        },
        {
          "name": "stderr",
          "output_type": "stream",
          "text": [
            "100%|██████████| 500/500 [00:12<00:00, 41.04it/s]\n"
          ]
        },
        {
          "name": "stdout",
          "output_type": "stream",
          "text": [
            "Epoch: 90/200 | Train Loss: 0.0629 | Train Acc: 97.9200 | Test Loss: 0.2994 | Test Acc: 91.5000\n"
          ]
        },
        {
          "name": "stderr",
          "output_type": "stream",
          "text": [
            "100%|██████████| 500/500 [00:12<00:00, 40.74it/s]\n"
          ]
        },
        {
          "name": "stdout",
          "output_type": "stream",
          "text": [
            "Epoch: 91/200 | Train Loss: 0.0614 | Train Acc: 98.0700 | Test Loss: 0.3157 | Test Acc: 91.1500\n"
          ]
        },
        {
          "name": "stderr",
          "output_type": "stream",
          "text": [
            "100%|██████████| 500/500 [00:11<00:00, 41.71it/s]\n"
          ]
        },
        {
          "name": "stdout",
          "output_type": "stream",
          "text": [
            "Epoch: 92/200 | Train Loss: 0.0614 | Train Acc: 98.0000 | Test Loss: 0.2514 | Test Acc: 92.7200\n"
          ]
        },
        {
          "name": "stderr",
          "output_type": "stream",
          "text": [
            "100%|██████████| 500/500 [00:12<00:00, 40.34it/s]\n"
          ]
        },
        {
          "name": "stdout",
          "output_type": "stream",
          "text": [
            "Epoch: 93/200 | Train Loss: 0.0619 | Train Acc: 98.0380 | Test Loss: 0.2686 | Test Acc: 92.5400\n"
          ]
        },
        {
          "name": "stderr",
          "output_type": "stream",
          "text": [
            "100%|██████████| 500/500 [00:12<00:00, 41.05it/s]\n"
          ]
        },
        {
          "name": "stdout",
          "output_type": "stream",
          "text": [
            "Epoch: 94/200 | Train Loss: 0.0611 | Train Acc: 98.0380 | Test Loss: 0.3324 | Test Acc: 90.8000\n"
          ]
        },
        {
          "name": "stderr",
          "output_type": "stream",
          "text": [
            "100%|██████████| 500/500 [00:12<00:00, 40.92it/s]\n"
          ]
        },
        {
          "name": "stdout",
          "output_type": "stream",
          "text": [
            "Epoch: 95/200 | Train Loss: 0.0617 | Train Acc: 97.9960 | Test Loss: 0.2868 | Test Acc: 91.9600\n"
          ]
        },
        {
          "name": "stderr",
          "output_type": "stream",
          "text": [
            "100%|██████████| 500/500 [00:12<00:00, 41.47it/s]\n"
          ]
        },
        {
          "name": "stdout",
          "output_type": "stream",
          "text": [
            "Epoch: 96/200 | Train Loss: 0.0562 | Train Acc: 98.2600 | Test Loss: 0.2716 | Test Acc: 92.3000\n"
          ]
        },
        {
          "name": "stderr",
          "output_type": "stream",
          "text": [
            "100%|██████████| 500/500 [00:12<00:00, 41.17it/s]\n"
          ]
        },
        {
          "name": "stdout",
          "output_type": "stream",
          "text": [
            "Epoch: 97/200 | Train Loss: 0.0590 | Train Acc: 98.0980 | Test Loss: 0.3070 | Test Acc: 91.6000\n"
          ]
        },
        {
          "name": "stderr",
          "output_type": "stream",
          "text": [
            "100%|██████████| 500/500 [00:12<00:00, 41.32it/s]\n"
          ]
        },
        {
          "name": "stdout",
          "output_type": "stream",
          "text": [
            "Epoch: 98/200 | Train Loss: 0.0596 | Train Acc: 98.1020 | Test Loss: 0.2791 | Test Acc: 92.3500\n"
          ]
        },
        {
          "name": "stderr",
          "output_type": "stream",
          "text": [
            "100%|██████████| 500/500 [00:12<00:00, 40.10it/s]\n"
          ]
        },
        {
          "name": "stdout",
          "output_type": "stream",
          "text": [
            "Epoch: 99/200 | Train Loss: 0.0617 | Train Acc: 98.0580 | Test Loss: 0.2720 | Test Acc: 92.2700\n"
          ]
        },
        {
          "name": "stderr",
          "output_type": "stream",
          "text": [
            "100%|██████████| 500/500 [00:12<00:00, 40.66it/s]\n"
          ]
        },
        {
          "name": "stdout",
          "output_type": "stream",
          "text": [
            "Epoch: 100/200 | Train Loss: 0.0587 | Train Acc: 98.1240 | Test Loss: 0.2849 | Test Acc: 92.1100\n"
          ]
        },
        {
          "name": "stderr",
          "output_type": "stream",
          "text": [
            "100%|██████████| 500/500 [00:12<00:00, 41.30it/s]\n"
          ]
        },
        {
          "name": "stdout",
          "output_type": "stream",
          "text": [
            "Epoch: 101/200 | Train Loss: 0.0276 | Train Acc: 99.2640 | Test Loss: 0.1986 | Test Acc: 94.5100\n"
          ]
        },
        {
          "name": "stderr",
          "output_type": "stream",
          "text": [
            "100%|██████████| 500/500 [00:12<00:00, 41.21it/s]\n"
          ]
        },
        {
          "name": "stdout",
          "output_type": "stream",
          "text": [
            "Epoch: 102/200 | Train Loss: 0.0158 | Train Acc: 99.6320 | Test Loss: 0.1928 | Test Acc: 94.8300\n"
          ]
        },
        {
          "name": "stderr",
          "output_type": "stream",
          "text": [
            "100%|██████████| 500/500 [00:12<00:00, 40.80it/s]\n"
          ]
        },
        {
          "name": "stdout",
          "output_type": "stream",
          "text": [
            "Epoch: 103/200 | Train Loss: 0.0132 | Train Acc: 99.7180 | Test Loss: 0.1902 | Test Acc: 94.7800\n"
          ]
        },
        {
          "name": "stderr",
          "output_type": "stream",
          "text": [
            "100%|██████████| 500/500 [00:12<00:00, 41.57it/s]\n"
          ]
        },
        {
          "name": "stdout",
          "output_type": "stream",
          "text": [
            "Epoch: 104/200 | Train Loss: 0.0110 | Train Acc: 99.7640 | Test Loss: 0.1876 | Test Acc: 95.0100\n"
          ]
        },
        {
          "name": "stderr",
          "output_type": "stream",
          "text": [
            "100%|██████████| 500/500 [00:12<00:00, 40.99it/s]\n"
          ]
        },
        {
          "name": "stdout",
          "output_type": "stream",
          "text": [
            "Epoch: 105/200 | Train Loss: 0.0093 | Train Acc: 99.8380 | Test Loss: 0.1923 | Test Acc: 94.8700\n"
          ]
        },
        {
          "name": "stderr",
          "output_type": "stream",
          "text": [
            "100%|██████████| 500/500 [00:12<00:00, 41.42it/s]\n"
          ]
        },
        {
          "name": "stdout",
          "output_type": "stream",
          "text": [
            "Epoch: 106/200 | Train Loss: 0.0082 | Train Acc: 99.8760 | Test Loss: 0.1892 | Test Acc: 94.9200\n"
          ]
        },
        {
          "name": "stderr",
          "output_type": "stream",
          "text": [
            "100%|██████████| 500/500 [00:12<00:00, 41.08it/s]\n"
          ]
        },
        {
          "name": "stdout",
          "output_type": "stream",
          "text": [
            "Epoch: 107/200 | Train Loss: 0.0079 | Train Acc: 99.8740 | Test Loss: 0.1853 | Test Acc: 95.0300\n"
          ]
        },
        {
          "name": "stderr",
          "output_type": "stream",
          "text": [
            "100%|██████████| 500/500 [00:12<00:00, 41.21it/s]\n"
          ]
        },
        {
          "name": "stdout",
          "output_type": "stream",
          "text": [
            "Epoch: 108/200 | Train Loss: 0.0074 | Train Acc: 99.8960 | Test Loss: 0.1869 | Test Acc: 94.8700\n"
          ]
        },
        {
          "name": "stderr",
          "output_type": "stream",
          "text": [
            "100%|██████████| 500/500 [00:12<00:00, 41.32it/s]\n"
          ]
        },
        {
          "name": "stdout",
          "output_type": "stream",
          "text": [
            "Epoch: 109/200 | Train Loss: 0.0069 | Train Acc: 99.9140 | Test Loss: 0.1854 | Test Acc: 95.0500\n"
          ]
        },
        {
          "name": "stderr",
          "output_type": "stream",
          "text": [
            "100%|██████████| 500/500 [00:11<00:00, 41.76it/s]\n"
          ]
        },
        {
          "name": "stdout",
          "output_type": "stream",
          "text": [
            "Epoch: 110/200 | Train Loss: 0.0065 | Train Acc: 99.9220 | Test Loss: 0.1894 | Test Acc: 94.8800\n"
          ]
        },
        {
          "name": "stderr",
          "output_type": "stream",
          "text": [
            "100%|██████████| 500/500 [00:12<00:00, 40.85it/s]\n"
          ]
        },
        {
          "name": "stdout",
          "output_type": "stream",
          "text": [
            "Epoch: 111/200 | Train Loss: 0.0060 | Train Acc: 99.9260 | Test Loss: 0.1880 | Test Acc: 95.1300\n"
          ]
        },
        {
          "name": "stderr",
          "output_type": "stream",
          "text": [
            "100%|██████████| 500/500 [00:12<00:00, 41.31it/s]\n"
          ]
        },
        {
          "name": "stdout",
          "output_type": "stream",
          "text": [
            "Epoch: 112/200 | Train Loss: 0.0065 | Train Acc: 99.9060 | Test Loss: 0.1872 | Test Acc: 94.9100\n"
          ]
        },
        {
          "name": "stderr",
          "output_type": "stream",
          "text": [
            "100%|██████████| 500/500 [00:12<00:00, 40.92it/s]\n"
          ]
        },
        {
          "name": "stdout",
          "output_type": "stream",
          "text": [
            "Epoch: 113/200 | Train Loss: 0.0056 | Train Acc: 99.9360 | Test Loss: 0.1873 | Test Acc: 95.0200\n"
          ]
        },
        {
          "name": "stderr",
          "output_type": "stream",
          "text": [
            "100%|██████████| 500/500 [00:12<00:00, 40.89it/s]\n"
          ]
        },
        {
          "name": "stdout",
          "output_type": "stream",
          "text": [
            "Epoch: 114/200 | Train Loss: 0.0052 | Train Acc: 99.9540 | Test Loss: 0.1863 | Test Acc: 95.0700\n"
          ]
        },
        {
          "name": "stderr",
          "output_type": "stream",
          "text": [
            "100%|██████████| 500/500 [00:12<00:00, 41.31it/s]\n"
          ]
        },
        {
          "name": "stdout",
          "output_type": "stream",
          "text": [
            "Epoch: 115/200 | Train Loss: 0.0057 | Train Acc: 99.9420 | Test Loss: 0.1866 | Test Acc: 95.0600\n"
          ]
        },
        {
          "name": "stderr",
          "output_type": "stream",
          "text": [
            "100%|██████████| 500/500 [00:12<00:00, 40.86it/s]\n"
          ]
        },
        {
          "name": "stdout",
          "output_type": "stream",
          "text": [
            "Epoch: 116/200 | Train Loss: 0.0053 | Train Acc: 99.9380 | Test Loss: 0.1853 | Test Acc: 95.0400\n"
          ]
        },
        {
          "name": "stderr",
          "output_type": "stream",
          "text": [
            "100%|██████████| 500/500 [00:12<00:00, 40.51it/s]\n"
          ]
        },
        {
          "name": "stdout",
          "output_type": "stream",
          "text": [
            "Epoch: 117/200 | Train Loss: 0.0045 | Train Acc: 99.9700 | Test Loss: 0.1854 | Test Acc: 95.1200\n"
          ]
        },
        {
          "name": "stderr",
          "output_type": "stream",
          "text": [
            "100%|██████████| 500/500 [00:12<00:00, 38.96it/s]\n"
          ]
        },
        {
          "name": "stdout",
          "output_type": "stream",
          "text": [
            "Epoch: 118/200 | Train Loss: 0.0049 | Train Acc: 99.9500 | Test Loss: 0.1855 | Test Acc: 95.1400\n"
          ]
        },
        {
          "name": "stderr",
          "output_type": "stream",
          "text": [
            "100%|██████████| 500/500 [00:12<00:00, 39.70it/s]\n"
          ]
        },
        {
          "name": "stdout",
          "output_type": "stream",
          "text": [
            "Epoch: 119/200 | Train Loss: 0.0049 | Train Acc: 99.9500 | Test Loss: 0.1874 | Test Acc: 94.9800\n"
          ]
        },
        {
          "name": "stderr",
          "output_type": "stream",
          "text": [
            "100%|██████████| 500/500 [00:12<00:00, 39.38it/s]\n"
          ]
        },
        {
          "name": "stdout",
          "output_type": "stream",
          "text": [
            "Epoch: 120/200 | Train Loss: 0.0045 | Train Acc: 99.9600 | Test Loss: 0.1856 | Test Acc: 95.0600\n"
          ]
        },
        {
          "name": "stderr",
          "output_type": "stream",
          "text": [
            "100%|██████████| 500/500 [00:12<00:00, 40.36it/s]\n"
          ]
        },
        {
          "name": "stdout",
          "output_type": "stream",
          "text": [
            "Epoch: 121/200 | Train Loss: 0.0041 | Train Acc: 99.9740 | Test Loss: 0.1861 | Test Acc: 95.0800\n"
          ]
        },
        {
          "name": "stderr",
          "output_type": "stream",
          "text": [
            "100%|██████████| 500/500 [00:12<00:00, 40.94it/s]\n"
          ]
        },
        {
          "name": "stdout",
          "output_type": "stream",
          "text": [
            "Epoch: 122/200 | Train Loss: 0.0043 | Train Acc: 99.9600 | Test Loss: 0.1848 | Test Acc: 95.1300\n"
          ]
        },
        {
          "name": "stderr",
          "output_type": "stream",
          "text": [
            "100%|██████████| 500/500 [00:12<00:00, 40.71it/s]\n"
          ]
        },
        {
          "name": "stdout",
          "output_type": "stream",
          "text": [
            "Epoch: 123/200 | Train Loss: 0.0043 | Train Acc: 99.9720 | Test Loss: 0.1839 | Test Acc: 95.0400\n"
          ]
        },
        {
          "name": "stderr",
          "output_type": "stream",
          "text": [
            "100%|██████████| 500/500 [00:12<00:00, 40.70it/s]\n"
          ]
        },
        {
          "name": "stdout",
          "output_type": "stream",
          "text": [
            "Epoch: 124/200 | Train Loss: 0.0039 | Train Acc: 99.9720 | Test Loss: 0.1843 | Test Acc: 95.0700\n"
          ]
        },
        {
          "name": "stderr",
          "output_type": "stream",
          "text": [
            "100%|██████████| 500/500 [00:12<00:00, 40.94it/s]\n"
          ]
        },
        {
          "name": "stdout",
          "output_type": "stream",
          "text": [
            "Epoch: 125/200 | Train Loss: 0.0042 | Train Acc: 99.9760 | Test Loss: 0.1834 | Test Acc: 95.0800\n"
          ]
        },
        {
          "name": "stderr",
          "output_type": "stream",
          "text": [
            "100%|██████████| 500/500 [00:12<00:00, 40.59it/s]\n"
          ]
        },
        {
          "name": "stdout",
          "output_type": "stream",
          "text": [
            "Epoch: 126/200 | Train Loss: 0.0041 | Train Acc: 99.9780 | Test Loss: 0.1840 | Test Acc: 95.1900\n"
          ]
        },
        {
          "name": "stderr",
          "output_type": "stream",
          "text": [
            "100%|██████████| 500/500 [00:12<00:00, 40.30it/s]\n"
          ]
        },
        {
          "name": "stdout",
          "output_type": "stream",
          "text": [
            "Epoch: 127/200 | Train Loss: 0.0042 | Train Acc: 99.9600 | Test Loss: 0.1819 | Test Acc: 95.1400\n"
          ]
        },
        {
          "name": "stderr",
          "output_type": "stream",
          "text": [
            "100%|██████████| 500/500 [00:12<00:00, 40.54it/s]\n"
          ]
        },
        {
          "name": "stdout",
          "output_type": "stream",
          "text": [
            "Epoch: 128/200 | Train Loss: 0.0042 | Train Acc: 99.9620 | Test Loss: 0.1825 | Test Acc: 95.2300\n"
          ]
        },
        {
          "name": "stderr",
          "output_type": "stream",
          "text": [
            "100%|██████████| 500/500 [00:12<00:00, 40.15it/s]\n"
          ]
        },
        {
          "name": "stdout",
          "output_type": "stream",
          "text": [
            "Epoch: 129/200 | Train Loss: 0.0039 | Train Acc: 99.9720 | Test Loss: 0.1822 | Test Acc: 95.2700\n"
          ]
        },
        {
          "name": "stderr",
          "output_type": "stream",
          "text": [
            "100%|██████████| 500/500 [00:12<00:00, 39.73it/s]\n"
          ]
        },
        {
          "name": "stdout",
          "output_type": "stream",
          "text": [
            "Epoch: 130/200 | Train Loss: 0.0038 | Train Acc: 99.9880 | Test Loss: 0.1822 | Test Acc: 95.1400\n"
          ]
        },
        {
          "name": "stderr",
          "output_type": "stream",
          "text": [
            "100%|██████████| 500/500 [00:12<00:00, 40.62it/s]\n"
          ]
        },
        {
          "name": "stdout",
          "output_type": "stream",
          "text": [
            "Epoch: 131/200 | Train Loss: 0.0037 | Train Acc: 99.9820 | Test Loss: 0.1816 | Test Acc: 95.2400\n"
          ]
        },
        {
          "name": "stderr",
          "output_type": "stream",
          "text": [
            "100%|██████████| 500/500 [00:12<00:00, 40.60it/s]\n"
          ]
        },
        {
          "name": "stdout",
          "output_type": "stream",
          "text": [
            "Epoch: 132/200 | Train Loss: 0.0037 | Train Acc: 99.9780 | Test Loss: 0.1850 | Test Acc: 95.1100\n"
          ]
        },
        {
          "name": "stderr",
          "output_type": "stream",
          "text": [
            "100%|██████████| 500/500 [00:12<00:00, 40.20it/s]\n"
          ]
        },
        {
          "name": "stdout",
          "output_type": "stream",
          "text": [
            "Epoch: 133/200 | Train Loss: 0.0036 | Train Acc: 99.9800 | Test Loss: 0.1788 | Test Acc: 95.2900\n"
          ]
        },
        {
          "name": "stderr",
          "output_type": "stream",
          "text": [
            "100%|██████████| 500/500 [00:12<00:00, 39.65it/s]\n"
          ]
        },
        {
          "name": "stdout",
          "output_type": "stream",
          "text": [
            "Epoch: 134/200 | Train Loss: 0.0036 | Train Acc: 99.9780 | Test Loss: 0.1800 | Test Acc: 95.3100\n"
          ]
        },
        {
          "name": "stderr",
          "output_type": "stream",
          "text": [
            "100%|██████████| 500/500 [00:12<00:00, 39.50it/s]\n"
          ]
        },
        {
          "name": "stdout",
          "output_type": "stream",
          "text": [
            "Epoch: 135/200 | Train Loss: 0.0037 | Train Acc: 99.9720 | Test Loss: 0.1829 | Test Acc: 95.3000\n"
          ]
        },
        {
          "name": "stderr",
          "output_type": "stream",
          "text": [
            "100%|██████████| 500/500 [00:12<00:00, 40.50it/s]\n"
          ]
        },
        {
          "name": "stdout",
          "output_type": "stream",
          "text": [
            "Epoch: 136/200 | Train Loss: 0.0034 | Train Acc: 99.9940 | Test Loss: 0.1824 | Test Acc: 95.1800\n"
          ]
        },
        {
          "name": "stderr",
          "output_type": "stream",
          "text": [
            "100%|██████████| 500/500 [00:12<00:00, 40.40it/s]\n"
          ]
        },
        {
          "name": "stdout",
          "output_type": "stream",
          "text": [
            "Epoch: 137/200 | Train Loss: 0.0034 | Train Acc: 99.9880 | Test Loss: 0.1837 | Test Acc: 95.3100\n"
          ]
        },
        {
          "name": "stderr",
          "output_type": "stream",
          "text": [
            "100%|██████████| 500/500 [00:12<00:00, 40.58it/s]\n"
          ]
        },
        {
          "name": "stdout",
          "output_type": "stream",
          "text": [
            "Epoch: 138/200 | Train Loss: 0.0036 | Train Acc: 99.9680 | Test Loss: 0.1831 | Test Acc: 95.2300\n"
          ]
        },
        {
          "name": "stderr",
          "output_type": "stream",
          "text": [
            "100%|██████████| 500/500 [00:12<00:00, 40.85it/s]\n"
          ]
        },
        {
          "name": "stdout",
          "output_type": "stream",
          "text": [
            "Epoch: 139/200 | Train Loss: 0.0034 | Train Acc: 99.9820 | Test Loss: 0.1805 | Test Acc: 95.1800\n"
          ]
        },
        {
          "name": "stderr",
          "output_type": "stream",
          "text": [
            "100%|██████████| 500/500 [00:12<00:00, 39.52it/s]\n"
          ]
        },
        {
          "name": "stdout",
          "output_type": "stream",
          "text": [
            "Epoch: 140/200 | Train Loss: 0.0033 | Train Acc: 99.9920 | Test Loss: 0.1813 | Test Acc: 95.2000\n"
          ]
        },
        {
          "name": "stderr",
          "output_type": "stream",
          "text": [
            "100%|██████████| 500/500 [00:12<00:00, 40.97it/s]\n"
          ]
        },
        {
          "name": "stdout",
          "output_type": "stream",
          "text": [
            "Epoch: 141/200 | Train Loss: 0.0032 | Train Acc: 99.9880 | Test Loss: 0.1815 | Test Acc: 95.3000\n"
          ]
        },
        {
          "name": "stderr",
          "output_type": "stream",
          "text": [
            "100%|██████████| 500/500 [00:12<00:00, 40.03it/s]\n"
          ]
        },
        {
          "name": "stdout",
          "output_type": "stream",
          "text": [
            "Epoch: 142/200 | Train Loss: 0.0032 | Train Acc: 99.9860 | Test Loss: 0.1783 | Test Acc: 95.3100\n"
          ]
        },
        {
          "name": "stderr",
          "output_type": "stream",
          "text": [
            "100%|██████████| 500/500 [00:12<00:00, 40.28it/s]\n"
          ]
        },
        {
          "name": "stdout",
          "output_type": "stream",
          "text": [
            "Epoch: 143/200 | Train Loss: 0.0032 | Train Acc: 99.9800 | Test Loss: 0.1808 | Test Acc: 95.1200\n"
          ]
        },
        {
          "name": "stderr",
          "output_type": "stream",
          "text": [
            "100%|██████████| 500/500 [00:12<00:00, 40.92it/s]\n"
          ]
        },
        {
          "name": "stdout",
          "output_type": "stream",
          "text": [
            "Epoch: 144/200 | Train Loss: 0.0033 | Train Acc: 99.9840 | Test Loss: 0.1795 | Test Acc: 95.2200\n"
          ]
        },
        {
          "name": "stderr",
          "output_type": "stream",
          "text": [
            "100%|██████████| 500/500 [00:12<00:00, 40.87it/s]\n"
          ]
        },
        {
          "name": "stdout",
          "output_type": "stream",
          "text": [
            "Epoch: 145/200 | Train Loss: 0.0031 | Train Acc: 99.9900 | Test Loss: 0.1800 | Test Acc: 95.1900\n"
          ]
        },
        {
          "name": "stderr",
          "output_type": "stream",
          "text": [
            "100%|██████████| 500/500 [00:12<00:00, 41.38it/s]\n"
          ]
        },
        {
          "name": "stdout",
          "output_type": "stream",
          "text": [
            "Epoch: 146/200 | Train Loss: 0.0032 | Train Acc: 99.9900 | Test Loss: 0.1787 | Test Acc: 95.2500\n"
          ]
        },
        {
          "name": "stderr",
          "output_type": "stream",
          "text": [
            "100%|██████████| 500/500 [00:12<00:00, 40.89it/s]\n"
          ]
        },
        {
          "name": "stdout",
          "output_type": "stream",
          "text": [
            "Epoch: 147/200 | Train Loss: 0.0032 | Train Acc: 99.9920 | Test Loss: 0.1799 | Test Acc: 95.2300\n"
          ]
        },
        {
          "name": "stderr",
          "output_type": "stream",
          "text": [
            "100%|██████████| 500/500 [00:12<00:00, 41.38it/s]\n"
          ]
        },
        {
          "name": "stdout",
          "output_type": "stream",
          "text": [
            "Epoch: 148/200 | Train Loss: 0.0031 | Train Acc: 99.9880 | Test Loss: 0.1779 | Test Acc: 95.2500\n"
          ]
        },
        {
          "name": "stderr",
          "output_type": "stream",
          "text": [
            "100%|██████████| 500/500 [00:12<00:00, 40.79it/s]\n"
          ]
        },
        {
          "name": "stdout",
          "output_type": "stream",
          "text": [
            "Epoch: 149/200 | Train Loss: 0.0032 | Train Acc: 99.9920 | Test Loss: 0.1776 | Test Acc: 95.2200\n"
          ]
        },
        {
          "name": "stderr",
          "output_type": "stream",
          "text": [
            "100%|██████████| 500/500 [00:12<00:00, 41.12it/s]\n"
          ]
        },
        {
          "name": "stdout",
          "output_type": "stream",
          "text": [
            "Epoch: 150/200 | Train Loss: 0.0031 | Train Acc: 99.9900 | Test Loss: 0.1790 | Test Acc: 95.2400\n"
          ]
        },
        {
          "name": "stderr",
          "output_type": "stream",
          "text": [
            "100%|██████████| 500/500 [00:12<00:00, 40.25it/s]\n"
          ]
        },
        {
          "name": "stdout",
          "output_type": "stream",
          "text": [
            "Epoch: 151/200 | Train Loss: 0.0032 | Train Acc: 99.9880 | Test Loss: 0.1812 | Test Acc: 95.0700\n"
          ]
        },
        {
          "name": "stderr",
          "output_type": "stream",
          "text": [
            "100%|██████████| 500/500 [00:12<00:00, 40.77it/s]\n"
          ]
        },
        {
          "name": "stdout",
          "output_type": "stream",
          "text": [
            "Epoch: 152/200 | Train Loss: 0.0031 | Train Acc: 99.9940 | Test Loss: 0.1819 | Test Acc: 95.2000\n"
          ]
        },
        {
          "name": "stderr",
          "output_type": "stream",
          "text": [
            "100%|██████████| 500/500 [00:12<00:00, 40.26it/s]\n"
          ]
        },
        {
          "name": "stdout",
          "output_type": "stream",
          "text": [
            "Epoch: 153/200 | Train Loss: 0.0032 | Train Acc: 99.9760 | Test Loss: 0.1807 | Test Acc: 95.2000\n"
          ]
        },
        {
          "name": "stderr",
          "output_type": "stream",
          "text": [
            "100%|██████████| 500/500 [00:12<00:00, 40.73it/s]\n"
          ]
        },
        {
          "name": "stdout",
          "output_type": "stream",
          "text": [
            "Epoch: 154/200 | Train Loss: 0.0034 | Train Acc: 99.9740 | Test Loss: 0.1803 | Test Acc: 95.2300\n"
          ]
        },
        {
          "name": "stderr",
          "output_type": "stream",
          "text": [
            "100%|██████████| 500/500 [00:12<00:00, 41.01it/s]\n"
          ]
        },
        {
          "name": "stdout",
          "output_type": "stream",
          "text": [
            "Epoch: 155/200 | Train Loss: 0.0030 | Train Acc: 99.9920 | Test Loss: 0.1779 | Test Acc: 95.2600\n"
          ]
        },
        {
          "name": "stderr",
          "output_type": "stream",
          "text": [
            "100%|██████████| 500/500 [00:12<00:00, 40.69it/s]\n"
          ]
        },
        {
          "name": "stdout",
          "output_type": "stream",
          "text": [
            "Epoch: 156/200 | Train Loss: 0.0030 | Train Acc: 99.9880 | Test Loss: 0.1763 | Test Acc: 95.2600\n"
          ]
        },
        {
          "name": "stderr",
          "output_type": "stream",
          "text": [
            "100%|██████████| 500/500 [00:12<00:00, 41.54it/s]\n"
          ]
        },
        {
          "name": "stdout",
          "output_type": "stream",
          "text": [
            "Epoch: 157/200 | Train Loss: 0.0031 | Train Acc: 99.9960 | Test Loss: 0.1759 | Test Acc: 95.2900\n"
          ]
        },
        {
          "name": "stderr",
          "output_type": "stream",
          "text": [
            "100%|██████████| 500/500 [00:12<00:00, 41.04it/s]\n"
          ]
        },
        {
          "name": "stdout",
          "output_type": "stream",
          "text": [
            "Epoch: 158/200 | Train Loss: 0.0030 | Train Acc: 99.9940 | Test Loss: 0.1774 | Test Acc: 95.2100\n"
          ]
        },
        {
          "name": "stderr",
          "output_type": "stream",
          "text": [
            "100%|██████████| 500/500 [00:12<00:00, 41.37it/s]\n"
          ]
        },
        {
          "name": "stdout",
          "output_type": "stream",
          "text": [
            "Epoch: 159/200 | Train Loss: 0.0029 | Train Acc: 99.9920 | Test Loss: 0.1769 | Test Acc: 95.1900\n"
          ]
        },
        {
          "name": "stderr",
          "output_type": "stream",
          "text": [
            "100%|██████████| 500/500 [00:12<00:00, 40.65it/s]\n"
          ]
        },
        {
          "name": "stdout",
          "output_type": "stream",
          "text": [
            "Epoch: 160/200 | Train Loss: 0.0030 | Train Acc: 99.9880 | Test Loss: 0.1760 | Test Acc: 95.2500\n"
          ]
        },
        {
          "name": "stderr",
          "output_type": "stream",
          "text": [
            "100%|██████████| 500/500 [00:12<00:00, 40.85it/s]\n"
          ]
        },
        {
          "name": "stdout",
          "output_type": "stream",
          "text": [
            "Epoch: 161/200 | Train Loss: 0.0029 | Train Acc: 99.9860 | Test Loss: 0.1778 | Test Acc: 95.1800\n"
          ]
        },
        {
          "name": "stderr",
          "output_type": "stream",
          "text": [
            "100%|██████████| 500/500 [00:12<00:00, 41.36it/s]\n"
          ]
        },
        {
          "name": "stdout",
          "output_type": "stream",
          "text": [
            "Epoch: 162/200 | Train Loss: 0.0031 | Train Acc: 99.9940 | Test Loss: 0.1761 | Test Acc: 95.3000\n"
          ]
        },
        {
          "name": "stderr",
          "output_type": "stream",
          "text": [
            "100%|██████████| 500/500 [00:12<00:00, 41.44it/s]\n"
          ]
        },
        {
          "name": "stdout",
          "output_type": "stream",
          "text": [
            "Epoch: 163/200 | Train Loss: 0.0032 | Train Acc: 99.9860 | Test Loss: 0.1766 | Test Acc: 95.2600\n"
          ]
        },
        {
          "name": "stderr",
          "output_type": "stream",
          "text": [
            "100%|██████████| 500/500 [00:12<00:00, 40.64it/s]\n"
          ]
        },
        {
          "name": "stdout",
          "output_type": "stream",
          "text": [
            "Epoch: 164/200 | Train Loss: 0.0030 | Train Acc: 99.9900 | Test Loss: 0.1750 | Test Acc: 95.2800\n"
          ]
        },
        {
          "name": "stderr",
          "output_type": "stream",
          "text": [
            "100%|██████████| 500/500 [00:12<00:00, 41.30it/s]\n"
          ]
        },
        {
          "name": "stdout",
          "output_type": "stream",
          "text": [
            "Epoch: 165/200 | Train Loss: 0.0031 | Train Acc: 99.9900 | Test Loss: 0.1774 | Test Acc: 95.2400\n"
          ]
        },
        {
          "name": "stderr",
          "output_type": "stream",
          "text": [
            "100%|██████████| 500/500 [00:12<00:00, 41.16it/s]\n"
          ]
        },
        {
          "name": "stdout",
          "output_type": "stream",
          "text": [
            "Epoch: 166/200 | Train Loss: 0.0029 | Train Acc: 99.9940 | Test Loss: 0.1758 | Test Acc: 95.3800\n"
          ]
        },
        {
          "name": "stderr",
          "output_type": "stream",
          "text": [
            "100%|██████████| 500/500 [00:12<00:00, 40.17it/s]\n"
          ]
        },
        {
          "name": "stdout",
          "output_type": "stream",
          "text": [
            "Epoch: 167/200 | Train Loss: 0.0030 | Train Acc: 99.9940 | Test Loss: 0.1747 | Test Acc: 95.3700\n"
          ]
        },
        {
          "name": "stderr",
          "output_type": "stream",
          "text": [
            "100%|██████████| 500/500 [00:12<00:00, 40.67it/s]\n"
          ]
        },
        {
          "name": "stdout",
          "output_type": "stream",
          "text": [
            "Epoch: 168/200 | Train Loss: 0.0030 | Train Acc: 99.9880 | Test Loss: 0.1748 | Test Acc: 95.3400\n"
          ]
        },
        {
          "name": "stderr",
          "output_type": "stream",
          "text": [
            "100%|██████████| 500/500 [00:12<00:00, 40.90it/s]\n"
          ]
        },
        {
          "name": "stdout",
          "output_type": "stream",
          "text": [
            "Epoch: 169/200 | Train Loss: 0.0029 | Train Acc: 99.9940 | Test Loss: 0.1742 | Test Acc: 95.4200\n"
          ]
        },
        {
          "name": "stderr",
          "output_type": "stream",
          "text": [
            "100%|██████████| 500/500 [00:12<00:00, 40.94it/s]\n"
          ]
        },
        {
          "name": "stdout",
          "output_type": "stream",
          "text": [
            "Epoch: 170/200 | Train Loss: 0.0030 | Train Acc: 99.9880 | Test Loss: 0.1759 | Test Acc: 95.2400\n"
          ]
        },
        {
          "name": "stderr",
          "output_type": "stream",
          "text": [
            "100%|██████████| 500/500 [00:12<00:00, 41.40it/s]\n"
          ]
        },
        {
          "name": "stdout",
          "output_type": "stream",
          "text": [
            "Epoch: 171/200 | Train Loss: 0.0028 | Train Acc: 99.9980 | Test Loss: 0.1738 | Test Acc: 95.2900\n"
          ]
        },
        {
          "name": "stderr",
          "output_type": "stream",
          "text": [
            "100%|██████████| 500/500 [00:12<00:00, 41.10it/s]\n"
          ]
        },
        {
          "name": "stdout",
          "output_type": "stream",
          "text": [
            "Epoch: 172/200 | Train Loss: 0.0030 | Train Acc: 99.9920 | Test Loss: 0.1768 | Test Acc: 95.3200\n"
          ]
        },
        {
          "name": "stderr",
          "output_type": "stream",
          "text": [
            "100%|██████████| 500/500 [00:12<00:00, 41.30it/s]\n"
          ]
        },
        {
          "name": "stdout",
          "output_type": "stream",
          "text": [
            "Epoch: 173/200 | Train Loss: 0.0029 | Train Acc: 99.9940 | Test Loss: 0.1778 | Test Acc: 95.1800\n"
          ]
        },
        {
          "name": "stderr",
          "output_type": "stream",
          "text": [
            "100%|██████████| 500/500 [00:12<00:00, 41.06it/s]\n"
          ]
        },
        {
          "name": "stdout",
          "output_type": "stream",
          "text": [
            "Epoch: 174/200 | Train Loss: 0.0030 | Train Acc: 99.9960 | Test Loss: 0.1749 | Test Acc: 95.3500\n"
          ]
        },
        {
          "name": "stderr",
          "output_type": "stream",
          "text": [
            "100%|██████████| 500/500 [00:12<00:00, 41.09it/s]\n"
          ]
        },
        {
          "name": "stdout",
          "output_type": "stream",
          "text": [
            "Epoch: 175/200 | Train Loss: 0.0028 | Train Acc: 99.9980 | Test Loss: 0.1763 | Test Acc: 95.2900\n"
          ]
        },
        {
          "name": "stderr",
          "output_type": "stream",
          "text": [
            "100%|██████████| 500/500 [00:12<00:00, 40.93it/s]\n"
          ]
        },
        {
          "name": "stdout",
          "output_type": "stream",
          "text": [
            "Epoch: 176/200 | Train Loss: 0.0030 | Train Acc: 99.9880 | Test Loss: 0.1753 | Test Acc: 95.2900\n"
          ]
        },
        {
          "name": "stderr",
          "output_type": "stream",
          "text": [
            "100%|██████████| 500/500 [00:12<00:00, 41.41it/s]\n"
          ]
        },
        {
          "name": "stdout",
          "output_type": "stream",
          "text": [
            "Epoch: 177/200 | Train Loss: 0.0028 | Train Acc: 99.9980 | Test Loss: 0.1743 | Test Acc: 95.2500\n"
          ]
        },
        {
          "name": "stderr",
          "output_type": "stream",
          "text": [
            "100%|██████████| 500/500 [00:12<00:00, 41.48it/s]\n"
          ]
        },
        {
          "name": "stdout",
          "output_type": "stream",
          "text": [
            "Epoch: 178/200 | Train Loss: 0.0029 | Train Acc: 99.9940 | Test Loss: 0.1736 | Test Acc: 95.3400\n"
          ]
        },
        {
          "name": "stderr",
          "output_type": "stream",
          "text": [
            "100%|██████████| 500/500 [00:12<00:00, 40.66it/s]\n"
          ]
        },
        {
          "name": "stdout",
          "output_type": "stream",
          "text": [
            "Epoch: 179/200 | Train Loss: 0.0029 | Train Acc: 99.9920 | Test Loss: 0.1750 | Test Acc: 95.2800\n"
          ]
        },
        {
          "name": "stderr",
          "output_type": "stream",
          "text": [
            "100%|██████████| 500/500 [00:12<00:00, 40.81it/s]\n"
          ]
        },
        {
          "name": "stdout",
          "output_type": "stream",
          "text": [
            "Epoch: 180/200 | Train Loss: 0.0031 | Train Acc: 99.9960 | Test Loss: 0.1769 | Test Acc: 95.3100\n"
          ]
        },
        {
          "name": "stderr",
          "output_type": "stream",
          "text": [
            "100%|██████████| 500/500 [00:12<00:00, 41.30it/s]\n"
          ]
        },
        {
          "name": "stdout",
          "output_type": "stream",
          "text": [
            "Epoch: 181/200 | Train Loss: 0.0030 | Train Acc: 99.9900 | Test Loss: 0.1756 | Test Acc: 95.3100\n"
          ]
        },
        {
          "name": "stderr",
          "output_type": "stream",
          "text": [
            "100%|██████████| 500/500 [00:12<00:00, 40.30it/s]\n"
          ]
        },
        {
          "name": "stdout",
          "output_type": "stream",
          "text": [
            "Epoch: 182/200 | Train Loss: 0.0030 | Train Acc: 99.9880 | Test Loss: 0.1739 | Test Acc: 95.3200\n"
          ]
        },
        {
          "name": "stderr",
          "output_type": "stream",
          "text": [
            "100%|██████████| 500/500 [00:12<00:00, 40.19it/s]\n"
          ]
        },
        {
          "name": "stdout",
          "output_type": "stream",
          "text": [
            "Epoch: 183/200 | Train Loss: 0.0029 | Train Acc: 99.9960 | Test Loss: 0.1770 | Test Acc: 95.2900\n"
          ]
        },
        {
          "name": "stderr",
          "output_type": "stream",
          "text": [
            "100%|██████████| 500/500 [00:12<00:00, 40.99it/s]\n"
          ]
        },
        {
          "name": "stdout",
          "output_type": "stream",
          "text": [
            "Epoch: 184/200 | Train Loss: 0.0029 | Train Acc: 99.9980 | Test Loss: 0.1766 | Test Acc: 95.3300\n"
          ]
        },
        {
          "name": "stderr",
          "output_type": "stream",
          "text": [
            "100%|██████████| 500/500 [00:12<00:00, 40.75it/s]\n"
          ]
        },
        {
          "name": "stdout",
          "output_type": "stream",
          "text": [
            "Epoch: 185/200 | Train Loss: 0.0029 | Train Acc: 99.9920 | Test Loss: 0.1749 | Test Acc: 95.3300\n"
          ]
        },
        {
          "name": "stderr",
          "output_type": "stream",
          "text": [
            "100%|██████████| 500/500 [00:12<00:00, 41.19it/s]\n"
          ]
        },
        {
          "name": "stdout",
          "output_type": "stream",
          "text": [
            "Epoch: 186/200 | Train Loss: 0.0029 | Train Acc: 99.9980 | Test Loss: 0.1718 | Test Acc: 95.3800\n"
          ]
        },
        {
          "name": "stderr",
          "output_type": "stream",
          "text": [
            "100%|██████████| 500/500 [00:12<00:00, 41.27it/s]\n"
          ]
        },
        {
          "name": "stdout",
          "output_type": "stream",
          "text": [
            "Epoch: 187/200 | Train Loss: 0.0029 | Train Acc: 99.9880 | Test Loss: 0.1733 | Test Acc: 95.3100\n"
          ]
        },
        {
          "name": "stderr",
          "output_type": "stream",
          "text": [
            "100%|██████████| 500/500 [00:12<00:00, 40.42it/s]\n"
          ]
        },
        {
          "name": "stdout",
          "output_type": "stream",
          "text": [
            "Epoch: 188/200 | Train Loss: 0.0030 | Train Acc: 99.9880 | Test Loss: 0.1733 | Test Acc: 95.3500\n"
          ]
        },
        {
          "name": "stderr",
          "output_type": "stream",
          "text": [
            "100%|██████████| 500/500 [00:12<00:00, 40.11it/s]\n"
          ]
        },
        {
          "name": "stdout",
          "output_type": "stream",
          "text": [
            "Epoch: 189/200 | Train Loss: 0.0028 | Train Acc: 99.9940 | Test Loss: 0.1718 | Test Acc: 95.3900\n"
          ]
        },
        {
          "name": "stderr",
          "output_type": "stream",
          "text": [
            "100%|██████████| 500/500 [00:12<00:00, 40.58it/s]\n"
          ]
        },
        {
          "name": "stdout",
          "output_type": "stream",
          "text": [
            "Epoch: 190/200 | Train Loss: 0.0029 | Train Acc: 99.9960 | Test Loss: 0.1728 | Test Acc: 95.2500\n"
          ]
        },
        {
          "name": "stderr",
          "output_type": "stream",
          "text": [
            "100%|██████████| 500/500 [00:12<00:00, 40.98it/s]\n"
          ]
        },
        {
          "name": "stdout",
          "output_type": "stream",
          "text": [
            "Epoch: 191/200 | Train Loss: 0.0028 | Train Acc: 100.0000 | Test Loss: 0.1718 | Test Acc: 95.4600\n"
          ]
        },
        {
          "name": "stderr",
          "output_type": "stream",
          "text": [
            "100%|██████████| 500/500 [00:12<00:00, 41.03it/s]\n"
          ]
        },
        {
          "name": "stdout",
          "output_type": "stream",
          "text": [
            "Epoch: 192/200 | Train Loss: 0.0027 | Train Acc: 99.9980 | Test Loss: 0.1715 | Test Acc: 95.3500\n"
          ]
        },
        {
          "name": "stderr",
          "output_type": "stream",
          "text": [
            "100%|██████████| 500/500 [00:12<00:00, 40.70it/s]\n"
          ]
        },
        {
          "name": "stdout",
          "output_type": "stream",
          "text": [
            "Epoch: 193/200 | Train Loss: 0.0028 | Train Acc: 99.9980 | Test Loss: 0.1721 | Test Acc: 95.3600\n"
          ]
        },
        {
          "name": "stderr",
          "output_type": "stream",
          "text": [
            "100%|██████████| 500/500 [00:12<00:00, 41.13it/s]\n"
          ]
        },
        {
          "name": "stdout",
          "output_type": "stream",
          "text": [
            "Epoch: 194/200 | Train Loss: 0.0027 | Train Acc: 99.9960 | Test Loss: 0.1724 | Test Acc: 95.2900\n"
          ]
        },
        {
          "name": "stderr",
          "output_type": "stream",
          "text": [
            "100%|██████████| 500/500 [00:12<00:00, 41.02it/s]\n"
          ]
        },
        {
          "name": "stdout",
          "output_type": "stream",
          "text": [
            "Epoch: 195/200 | Train Loss: 0.0030 | Train Acc: 99.9880 | Test Loss: 0.1727 | Test Acc: 95.3900\n"
          ]
        },
        {
          "name": "stderr",
          "output_type": "stream",
          "text": [
            "100%|██████████| 500/500 [00:12<00:00, 41.22it/s]\n"
          ]
        },
        {
          "name": "stdout",
          "output_type": "stream",
          "text": [
            "Epoch: 196/200 | Train Loss: 0.0029 | Train Acc: 99.9940 | Test Loss: 0.1719 | Test Acc: 95.3300\n"
          ]
        },
        {
          "name": "stderr",
          "output_type": "stream",
          "text": [
            "100%|██████████| 500/500 [00:12<00:00, 40.01it/s]\n"
          ]
        },
        {
          "name": "stdout",
          "output_type": "stream",
          "text": [
            "Epoch: 197/200 | Train Loss: 0.0029 | Train Acc: 99.9980 | Test Loss: 0.1741 | Test Acc: 95.2300\n"
          ]
        },
        {
          "name": "stderr",
          "output_type": "stream",
          "text": [
            "100%|██████████| 500/500 [00:12<00:00, 41.06it/s]\n"
          ]
        },
        {
          "name": "stdout",
          "output_type": "stream",
          "text": [
            "Epoch: 198/200 | Train Loss: 0.0029 | Train Acc: 99.9940 | Test Loss: 0.1728 | Test Acc: 95.3400\n"
          ]
        },
        {
          "name": "stderr",
          "output_type": "stream",
          "text": [
            "100%|██████████| 500/500 [00:12<00:00, 41.07it/s]\n"
          ]
        },
        {
          "name": "stdout",
          "output_type": "stream",
          "text": [
            "Epoch: 199/200 | Train Loss: 0.0029 | Train Acc: 99.9840 | Test Loss: 0.1731 | Test Acc: 95.3400\n"
          ]
        },
        {
          "name": "stderr",
          "output_type": "stream",
          "text": [
            "100%|██████████| 500/500 [00:12<00:00, 40.96it/s]\n"
          ]
        },
        {
          "name": "stdout",
          "output_type": "stream",
          "text": [
            "Epoch: 200/200 | Train Loss: 0.0028 | Train Acc: 99.9960 | Test Loss: 0.1726 | Test Acc: 95.2800\n"
          ]
        }
      ],
      "source": [
        "# Start the experiment\n",
        "best_test_acc = 0.0\n",
        "with mlflow.start_run() as run:\n",
        "    num_epochs = 200\n",
        "    train_losses, train_accuracies = [], []\n",
        "    test_losses, test_accuracies = [], []\n",
        "\n",
        "    for epoch in range(num_epochs):\n",
        "        train_loss, train_acc = train(model, trainloader, criterion, optimizer, device)\n",
        "        test_loss, test_acc = validate(model, testloader, criterion, device)\n",
        "\n",
        "        train_losses.append(train_loss)\n",
        "        train_accuracies.append(train_acc)\n",
        "        test_losses.append(test_loss)\n",
        "        test_accuracies.append(test_acc)\n",
        "\n",
        "        scheduler.step()\n",
        "\n",
        "        print(f\"Epoch: {epoch + 1}/{num_epochs} | \"\n",
        "              f\"Train Loss: {train_loss:.4f} | Train Acc: {train_acc:.4f} | \"\n",
        "              f\"Test Loss: {test_loss:.4f} | Test Acc: {test_acc:.4f}\")\n",
        "        \n",
        "        if test_acc > best_test_acc:\n",
        "          best_test_acc = test_acc\n",
        "          torch.save(model.state_dict(), 'best_model.pt')\n",
        "\n",
        "        mlflow.log_metric(\"train_loss\", train_loss, step=epoch)\n",
        "        mlflow.log_metric(\"train_acc\", train_acc, step=epoch)\n",
        "        mlflow.log_metric(\"test_loss\", test_loss, step=epoch)\n",
        "        mlflow.log_metric(\"test_acc\", test_acc, step=epoch)"
      ]
    },
    {
      "cell_type": "code",
      "execution_count": null,
      "metadata": {
        "colab": {
          "base_uri": "https://localhost:8080/",
          "height": 35
        },
        "id": "SjdbTrvNzB5F",
        "outputId": "c4ffa283-3388-4812-9560-8f0c55be443f"
      },
      "outputs": [
        {
          "data": {
            "application/vnd.google.colaboratory.intrinsic+json": {
              "type": "string"
            },
            "text/plain": [
              "'Best Model Test Accuracy: 95.46%'"
            ]
          },
          "execution_count": 84,
          "metadata": {},
          "output_type": "execute_result"
        }
      ],
      "source": [
        "f\"Best Model Test Accuracy: {best_test_acc}%\""
      ]
    },
    {
      "cell_type": "code",
      "execution_count": null,
      "metadata": {
        "colab": {
          "base_uri": "https://localhost:8080/",
          "height": 295
        },
        "id": "FN1J7N6OZmpJ",
        "outputId": "a2282f2d-a6f6-4514-9b0e-0162b29ad8b9"
      },
      "outputs": [
        {
          "data": {
            "image/png": "[encoded data removed]",
            "text/plain": [
              "<Figure size 864x288 with 2 Axes>"
            ]
          },
          "metadata": {
            "needs_background": "light"
          },
          "output_type": "display_data"
        }
      ],
      "source": [
        "# Visualize training, validation and test loss and accuracy\n",
        "plt.figure(figsize=(12, 4))\n",
        "plt.subplot(1, 2, 1)\n",
        "plt.plot(train_losses, label=\"Train Loss\")\n",
        "plt.plot(test_losses, label=\"Test Loss\")\n",
        "plt.xlabel(\"Epochs\")\n",
        "plt.ylabel(\"Loss\")\n",
        "plt.legend()\n",
        "plt.title(\"Loss vs. Epochs\")\n",
        "\n",
        "plt.subplot(1, 2, 2)\n",
        "plt.plot(train_accuracies, label=\"Train Accuracy\")\n",
        "plt.plot(test_accuracies, label=\"Test Accuracy\")\n",
        "plt.xlabel(\"Epochs\")\n",
        "plt.ylabel(\"Accuracy\")\n",
        "plt.legend()\n",
        "plt.title(\"Accuracy vs. Epochs\")\n",
        "\n",
        "plt.show()"
      ]
    },
    {
      "cell_type": "code",
      "execution_count": null,
      "metadata": {
        "colab": {
          "base_uri": "https://localhost:8080/",
          "height": 206
        },
        "id": "3h-234wjZm-L",
        "outputId": "79f31cb0-5cc3-4339-8de4-80845ab4134a"
      },
      "outputs": [
        {
          "data": {
            "image/png": "[encoded data removed]",
            "text/plain": [
              "<Figure size 1080x360 with 5 Axes>"
            ]
          },
          "metadata": {
            "needs_background": "light"
          },
          "output_type": "display_data"
        }
      ],
      "source": [
        "def imshow(img):\n",
        "    img = img / 2 + 0.5  # Unnormalize\n",
        "    npimg = img.numpy()\n",
        "    plt.imshow(np.transpose(npimg, (1, 2, 0)))\n",
        "    plt.axis('off')\n",
        "\n",
        "\n",
        "best_model = simplified_resnet().to(device)\n",
        "best_model.load_state_dict(torch.load('best_model.pt'))\n",
        "best_model.eval()\n",
        "\n",
        "samples = 5\n",
        "dataiter = iter(testloader)\n",
        "images, labels = next(dataiter)\n",
        "indices = random.sample(range(0, len(images)), samples)\n",
        "\n",
        "outputs = best_model(images.to(device))\n",
        "predicted = torch.max(outputs, 1)[1]\n",
        "\n",
        "fig = plt.figure(figsize=(15, 5))\n",
        "for i, index in enumerate(indices):\n",
        "    plt.subplot(1, samples, i + 1)\n",
        "    imshow(images[index])\n",
        "    plt.title(f\"True: {classes[labels[index]]}\\nPred: {classes[predicted[index]]}\")\n",
        "\n",
        "plt.show()"
      ]
    },
    {
      "cell_type": "code",
      "execution_count": null,
      "metadata": {
        "colab": {
          "base_uri": "https://localhost:8080/"
        },
        "id": "Y0mbGRh-xPXB",
        "outputId": "15d706f2-bafc-4235-c84d-0939d3e97174"
      },
      "outputs": [
        {
          "name": "stdout",
          "output_type": "stream",
          "text": [
            "Test Accuracy: 95.46%\n"
          ]
        }
      ],
      "source": [
        "best_model.eval()\n",
        "with torch.no_grad():\n",
        "    correct = 0\n",
        "    total = 0\n",
        "    for images, labels in testloader:\n",
        "        images, labels = images.to(device), labels.to(device)\n",
        "        outputs = best_model(images)\n",
        "        predicted = torch.max(outputs.data, 1)[1]\n",
        "        total += labels.size(0)\n",
        "        correct += (predicted == labels).sum().item()\n",
        "    accuracy = 100 * correct / total\n",
        "    print('Test Accuracy: {:.2f}%'.format(accuracy))"
      ]
    },
    {
      "cell_type": "code",
      "execution_count": null,
      "metadata": {
        "colab": {
          "base_uri": "https://localhost:8080/"
        },
        "id": "9HnxNPCl2Kpq",
        "outputId": "f021077a-3306-4f49-be9a-a9144813c5a7"
      },
      "outputs": [
        {
          "name": "stdout",
          "output_type": "stream",
          "text": [
            "Trainable parameters: 4697162\n"
          ]
        }
      ],
      "source": [
        "print(f\"Trainable parameters: {count_parameters(best_model)}\")"
      ]
    },
    {
      "cell_type": "markdown",
      "source": [
        "### Pruning:\n",
        "Attempt at Pruning which didn't work well."
      ],
      "metadata": {
        "id": "i1eT0KbgkDep"
      }
    },
    {
      "cell_type": "code",
      "execution_count": null,
      "metadata": {
        "id": "lOzkg43ztc2X"
      },
      "outputs": [],
      "source": [
        "  # #Second attempt at pruning\n",
        "# import torch.nn.utils.prune as prune\n",
        "\n",
        "# def prune_model(model, prune_percent):\n",
        "#     for module in model.modules():\n",
        "#         if isinstance(module, torch.nn.Conv2d):\n",
        "#             # prune weights\n",
        "#             weight = module.weight\n",
        "#             if weight.dim() == 1:\n",
        "#                 if weight.shape[0] == module.in_channels:\n",
        "#                     weight = weight.unsqueeze(-1).unsqueeze(-1)\n",
        "#                 else:\n",
        "#                     weight = weight.unsqueeze(-1)\n",
        "#             prune.ln_structured(module, name='weight', amount=prune_percent, n=2, dim=0)\n",
        "            \n",
        "#             # prune biases\n",
        "#             bias = module.bias\n",
        "#             if bias is not None and bias.dim() == 1:\n",
        "#                 bias = bias.unsqueeze(-1)\n",
        "#                 prune.ln_structured(module, name='bias', amount=prune_percent, n=1, dim=0)\n",
        "\n",
        "#         elif isinstance(module, torch.nn.BatchNorm2d):\n",
        "#             weight = module.weight\n",
        "#             if weight.dim() == 1:\n",
        "#                 weight = weight.unsqueeze(-1)\n",
        "#             prune.ln_structured(module, name='weight', amount=prune_percent, n=1, dim=0)\n",
        "\n",
        "#     # Remove channels with all zero weights\n",
        "#     for module in model.modules():\n",
        "#         if isinstance(module, torch.nn.Conv2d) and hasattr(module, 'weight_orig'):\n",
        "#             module.weight.data *= module.weight_mask\n",
        "\n",
        "#     # Remove the weight masks from the model\n",
        "#     for module in model.modules():\n",
        "#         if isinstance(module, torch.nn.Conv2d) and hasattr(module, 'weight_mask'):\n",
        "#             del module.weight_mask\n",
        "#         elif isinstance(module, torch.nn.BatchNorm2d) and hasattr(module, 'weight_mask'):\n",
        "#             del module.weight_mask\n",
        "\n",
        "# # Prune the model\n",
        "# model_copy = deepcopy(best_model)\n",
        "# # prune_channels(model_copy, 0.5547)\n",
        "# prune_model(model_copy, 0.55)\n",
        "# print(f\"Trainable parameters after pruning : {count_parameters(model_copy)}\")\n",
        "\n",
        "# def prune_channels(model, prune_ratio):\n",
        "#     \"\"\"\n",
        "#     Prune a certain percentage of channels with smallest L2-norm values in each convolutional layer of the model.\n",
        "\n",
        "#     Args:\n",
        "#         model (nn.Module): The ResNet18 model to be pruned.\n",
        "#         prune_ratio (float): The percentage of channels to be pruned in each layer.\n",
        "#     \"\"\"\n",
        "#     pruned_model = deepcopy(model)\n",
        "\n",
        "#     # Loop through all the model's Conv2d layers\n",
        "#     for layer in pruned_model.modules():\n",
        "#         if isinstance(layer, nn.Conv2d):\n",
        "\n",
        "#             # Determine the number of channels to prune\n",
        "#             num_channels = layer.weight.shape[0]\n",
        "#             num_prune = int(num_channels * prune_ratio)\n",
        "\n",
        "#             # Compute L2-norm for each channel and sort the indices\n",
        "#             norms = torch.sqrt(torch.sum(layer.weight**2, axis=(1,2,3)))\n",
        "#             sorted_indices = torch.argsort(norms)\n",
        "\n",
        "#             # Remove the smallest channels and update the layer's weight\n",
        "#             remaining_indices = sorted_indices[num_prune:]\n",
        "#             layer.weight = nn.Parameter(layer.weight[remaining_indices])\n",
        "\n",
        "#             # Update the bias parameter if it exists\n",
        "#             if layer.bias is not None:\n",
        "#                 layer.bias = nn.Parameter(layer.bias[remaining_indices])\n",
        "\n",
        "#             # Update the number of input channels for the next layer\n",
        "#             layer.in_channels = layer.weight.shape[0]\n",
        "\n",
        "#             # Update the num_features parameter in any BatchNorm2d layers that are pruned\n",
        "#             for attr in ['bn1', 'bn2']:\n",
        "#                 bn_layer = getattr(layer, attr, None)\n",
        "#                 if bn_layer is not None:\n",
        "#                     bn_layer.num_features = layer.weight.shape[0]\n",
        "\n",
        "#         # Handle batch normalization layers separately\n",
        "#         elif isinstance(layer, nn.BatchNorm2d):\n",
        "\n",
        "#             # Determine the number of channels to prune\n",
        "#             num_channels = layer.weight.shape[0]\n",
        "#             num_prune = int(num_channels * prune_ratio)\n",
        "\n",
        "#             # Sort the indices by the absolute value of the weight\n",
        "#             sorted_indices = torch.argsort(layer.weight.abs())\n",
        "\n",
        "#             # Remove the smallest channels and update the layer's weight, bias, running_mean, and running_var\n",
        "#             remaining_indices = sorted_indices[num_prune:]\n",
        "#             layer.weight = nn.Parameter(layer.weight[remaining_indices])\n",
        "#             layer.bias = nn.Parameter(layer.bias[remaining_indices])\n",
        "#             layer.running_mean = layer.running_mean[remaining_indices]\n",
        "#             layer.running_var = layer.running_var[remaining_indices]\n",
        "\n",
        "#     return pruned_model"
      ]
    }
  ],
  "metadata": {
    "accelerator": "GPU",
    "colab": {
      "provenance": []
    },
    "gpuClass": "premium",
    "kernelspec": {
      "display_name": "Python 3",
      "name": "python3"
    },
    "language_info": {
      "name": "python"
    }
  },
  "nbformat": 4,
  "nbformat_minor": 0
}